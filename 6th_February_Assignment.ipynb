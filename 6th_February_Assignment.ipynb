{
  "nbformat": 4,
  "nbformat_minor": 0,
  "metadata": {
    "colab": {
      "provenance": [],
      "authorship_tag": "ABX9TyPe/PI83npwHxx5EHGEw01w",
      "include_colab_link": true
    },
    "kernelspec": {
      "name": "python3",
      "display_name": "Python 3"
    },
    "language_info": {
      "name": "python"
    }
  },
  "cells": [
    {
      "cell_type": "markdown",
      "metadata": {
        "id": "view-in-github",
        "colab_type": "text"
      },
      "source": [
        "<a href=\"https://colab.research.google.com/github/sasl09/PWSkills/blob/main/6th_February_Assignment.ipynb\" target=\"_parent\"><img src=\"https://colab.research.google.com/assets/colab-badge.svg\" alt=\"Open In Colab\"/></a>"
      ]
    },
    {
      "cell_type": "markdown",
      "source": [
        "# 1.-"
      ],
      "metadata": {
        "id": "dcTvJ95iXpoV"
      }
    },
    {
      "cell_type": "code",
      "source": [
        "from functools import reduce\n",
        "\n",
        "def flat(lis):\n",
        "    flatList = []\n",
        "    for element in lis:\n",
        "      #if it's already an int append it\n",
        "        if type(element) is int:\n",
        "            flatList.append(element)\n",
        "      #if list, tuple or set, iterate over it an extract ints\n",
        "        if type(element) is list or type(element) is tuple or type(element) is set:\n",
        "            for item in element:\n",
        "              if type(item) == int:\n",
        "                flatList.append(item)\n",
        "              #This checks for a second layer of nesting\n",
        "              if type(item) != int and type(item) != bool:\n",
        "                for a in item:\n",
        "                  flatList.append(a)\n",
        "        \n",
        "        #if it is a dict, iterate over it an extract ints from keys\n",
        "        if type(element) is dict:\n",
        "            for i in element.keys():\n",
        "              if type(i) == int:\n",
        "                flatList.append(i)\n",
        "        #if it is a dict, iterate over it an extract ints from values\n",
        "        if type(element) is dict:\n",
        "            for b in element.values():\n",
        "              if type(b) == int:\n",
        "                flatList.append(b)\n",
        "              #This checks for a second layer of nesting\n",
        "              if type(b) != int:\n",
        "                for c in b:\n",
        "                  flatList.append(c)\n",
        "                \n",
        "    return flatList"
      ],
      "metadata": {
        "id": "wWqaMR6CM96V"
      },
      "execution_count": 1,
      "outputs": []
    },
    {
      "cell_type": "code",
      "source": [
        "def checkType(someList):\n",
        "  for element in someList:\n",
        "    if type(element) is list or type(element) is tuple or type(element) is set or type(element) is dict:\n",
        "      someList = flat(someList)\n",
        "  return someList  "
      ],
      "metadata": {
        "id": "N_As6iXrNQ-d"
      },
      "execution_count": 2,
      "outputs": []
    },
    {
      "cell_type": "code",
      "source": [
        "lis = [1,2,3,4, [44,55,66, True], False, (34,56,78,89,34), {1,2,3,3,2,1}, {1:34, \"key2\": [55, 67, 78, 89], 4: (45, 22, 61, 34)}, [56, 'data science'], 'Machine Learning']"
      ],
      "metadata": {
        "id": "q_XfUvGUOmXf"
      },
      "execution_count": 3,
      "outputs": []
    },
    {
      "cell_type": "code",
      "source": [
        "flatList = checkType(lis)\n",
        "print('Original List', lis, '\\n')\n",
        "print(\"This is our new list of only integers: \", flatList, '\\n')\n",
        "prod = reduce((lambda x, y: x * y), flatList)\n",
        "print(\"This is the product of our new list: \", prod)"
      ],
      "metadata": {
        "colab": {
          "base_uri": "https://localhost:8080/"
        },
        "id": "YAZvVkWWOMTz",
        "outputId": "adc11907-4386-4a64-af63-1b5793aed383"
      },
      "execution_count": 4,
      "outputs": [
        {
          "output_type": "stream",
          "name": "stdout",
          "text": [
            "Original List [1, 2, 3, 4, [44, 55, 66, True], False, (34, 56, 78, 89, 34), {1, 2, 3}, {1: 34, 'key2': [55, 67, 78, 89], 4: (45, 22, 61, 34)}, [56, 'data science'], 'Machine Learning'] \n",
            "\n",
            "This is our new list of only integers:  [1, 2, 3, 4, 44, 55, 66, 34, 56, 78, 89, 34, 1, 2, 3, 1, 4, 34, 55, 67, 78, 89, 45, 22, 61, 34, 56] \n",
            "\n",
            "This is the product of our new list:  4134711838987085478833841242112000\n"
          ]
        }
      ]
    },
    {
      "cell_type": "markdown",
      "source": [
        "# 2.-"
      ],
      "metadata": {
        "id": "srpgRuqhX1d2"
      }
    },
    {
      "cell_type": "code",
      "source": [
        "#Encrypted message\n",
        "encrypt = \"I want to become a Data Scientist.\"\n",
        " \n",
        "import string\n",
        "alphabet = list(string.ascii_lowercase) #Generate a list with the alphabet\n",
        "\n",
        "#Create a dictionary to store keys from a-z and values from z-a\n",
        "alphaDict = {}\n",
        "for i in range(len(alphabet)):\n",
        "  n = i+1\n",
        "  alphaDict[alphabet[i]] = alphabet[-n]\n",
        "print(\"Dict with a-z keys and z-a values: \", alphaDict, \"\\n\")\n",
        "  \n",
        "#lowercase string of message, then find its match in dict's keys and append its value in a list  \n",
        "encrypted = []\n",
        "for i in encrypt.lower():\n",
        "  if i in alphaDict:\n",
        "    encrypted.append(alphaDict[i])\n",
        "  elif i == \" \":\n",
        "    encrypted.append(\"$\")\n",
        "\n",
        "print(\"Message: \", encrypt, \"\\n\")\n",
        "encStr = \"[{0}]\".format(''.join(map(str, encrypted))) #Convert list to string\n",
        "print(\"Encryption: \", encStr[1:-2]) #Get rid of brackets and print"
      ],
      "metadata": {
        "id": "DmkR4Lu5yTER",
        "colab": {
          "base_uri": "https://localhost:8080/"
        },
        "outputId": "bf4b51fa-35e2-45ee-93f0-21df187ac8e3"
      },
      "execution_count": 92,
      "outputs": [
        {
          "output_type": "stream",
          "name": "stdout",
          "text": [
            "Dict with a-z keys and z-a values:  {'a': 'z', 'b': 'y', 'c': 'x', 'd': 'w', 'e': 'v', 'f': 'u', 'g': 't', 'h': 's', 'i': 'r', 'j': 'q', 'k': 'p', 'l': 'o', 'm': 'n', 'n': 'm', 'o': 'l', 'p': 'k', 'q': 'j', 'r': 'i', 's': 'h', 't': 'g', 'u': 'f', 'v': 'e', 'w': 'd', 'x': 'c', 'y': 'b', 'z': 'a'} \n",
            "\n",
            "Message:  I want to become a Data Scientist. \n",
            "\n",
            "Encryption:  r$dzmg$gl$yvxlnv$z$wzgz$hxrvmgrh\n"
          ]
        }
      ]
    },
    {
      "cell_type": "code",
      "source": [],
      "metadata": {
        "id": "ln4brvEdRxMT"
      },
      "execution_count": null,
      "outputs": []
    },
    {
      "cell_type": "code",
      "source": [],
      "metadata": {
        "id": "XokfWJK1PozG"
      },
      "execution_count": null,
      "outputs": []
    }
  ]
}