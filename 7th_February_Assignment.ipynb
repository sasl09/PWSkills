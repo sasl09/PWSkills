{
  "nbformat": 4,
  "nbformat_minor": 0,
  "metadata": {
    "colab": {
      "provenance": [],
      "authorship_tag": "ABX9TyMFQUu+Frop13xV+AEIPn8C",
      "include_colab_link": true
    },
    "kernelspec": {
      "name": "python3",
      "display_name": "Python 3"
    },
    "language_info": {
      "name": "python"
    }
  },
  "cells": [
    {
      "cell_type": "markdown",
      "metadata": {
        "id": "view-in-github",
        "colab_type": "text"
      },
      "source": [
        "<a href=\"https://colab.research.google.com/github/sasl09/PWSkills/blob/main/7th_February_Assignment.ipynb\" target=\"_parent\"><img src=\"https://colab.research.google.com/assets/colab-badge.svg\" alt=\"Open In Colab\"/></a>"
      ]
    },
    {
      "cell_type": "markdown",
      "source": [
        "# 1.-"
      ],
      "metadata": {
        "id": "dcTvJ95iXpoV"
      }
    },
    {
      "cell_type": "code",
      "source": [
        "inp = input(\"Enter your password... \")\n",
        "\n",
        "#Get strings with lower, upper alphabet, special chars allowed and 0-9 digits\n",
        "upper=\"ABCDEFGHIJKLMNOPQRSTUVWXYZ\"\n",
        "lower=\"abcdefghijklmnopqrstuvwxyz\"\n",
        "specChars=\"$@_&*()+@#$%^&\"\n",
        "nums=\"0123456789\"\n",
        "\n",
        "l, u, s, n = 0, 0, 0, 0 #lower, upper, special chars and numbers\n",
        "\n",
        "if (len(inp) >= 10):\n",
        "    for i in inp:\n",
        " \n",
        "        # counting lowercase alphabets\n",
        "        if (i in lower):\n",
        "            l += 1           \n",
        " \n",
        "        # counting uppercase alphabets\n",
        "        if (i in upper):\n",
        "            u += 1           \n",
        " \n",
        "        # counting the mentioned special characters\n",
        "        if(i in specChars):\n",
        "            s += 1 \n",
        "\n",
        "        # counting numbers\n",
        "        if (i in nums):\n",
        "            n += 1           \n",
        "       \n",
        "if (l>=2 and u>=2 and s>=3 and n>=1 and l+u+s+n == len(inp)):\n",
        "    print(\"Valid Password\")\n",
        "else:\n",
        "    print(\"Invalid Password\")"
      ],
      "metadata": {
        "id": "N_As6iXrNQ-d",
        "colab": {
          "base_uri": "https://localhost:8080/"
        },
        "outputId": "dddffc56-4d37-4657-b726-2910435c1e42"
      },
      "execution_count": 15,
      "outputs": [
        {
          "output_type": "stream",
          "name": "stdout",
          "text": [
            "Enter your password... ASas1+@#jhgf\n",
            "Valid Password\n"
          ]
        }
      ]
    },
    {
      "cell_type": "markdown",
      "source": [
        "# 2.-"
      ],
      "metadata": {
        "id": "srpgRuqhX1d2"
      }
    },
    {
      "cell_type": "code",
      "source": [
        "starts_with = lambda x: True if x.startswith('P') else False\n",
        "print(starts_with('Python'))"
      ],
      "metadata": {
        "id": "ln4brvEdRxMT",
        "colab": {
          "base_uri": "https://localhost:8080/"
        },
        "outputId": "f031e310-45a8-468b-99cd-c8a21cf777f6"
      },
      "execution_count": 16,
      "outputs": [
        {
          "output_type": "stream",
          "name": "stdout",
          "text": [
            "True\n"
          ]
        }
      ]
    },
    {
      "cell_type": "code",
      "source": [
        "starts_with = lambda x: True if type(x) == int else False\n",
        "print(starts_with('Python'))"
      ],
      "metadata": {
        "id": "XokfWJK1PozG",
        "colab": {
          "base_uri": "https://localhost:8080/"
        },
        "outputId": "093143d9-6567-4a3b-a1ab-10896a5ceb1d"
      },
      "execution_count": 18,
      "outputs": [
        {
          "output_type": "stream",
          "name": "stdout",
          "text": [
            "False\n"
          ]
        }
      ]
    },
    {
      "cell_type": "code",
      "source": [
        "tupList = [(\"mango\",99),(\"orange\",80), (\"grapes\", 1000)]\n",
        "tupList.sort(key = lambda x: x[1])\n",
        "tupList"
      ],
      "metadata": {
        "colab": {
          "base_uri": "https://localhost:8080/"
        },
        "id": "w4EPOSvY84Qa",
        "outputId": "fbaccf7b-fb18-4df7-b83c-5b3c304138ab"
      },
      "execution_count": 22,
      "outputs": [
        {
          "output_type": "execute_result",
          "data": {
            "text/plain": [
              "[('orange', 80), ('mango', 99), ('grapes', 1000)]"
            ]
          },
          "metadata": {},
          "execution_count": 22
        }
      ]
    },
    {
      "cell_type": "code",
      "source": [
        "[i**2 for i in range(1,11)]"
      ],
      "metadata": {
        "colab": {
          "base_uri": "https://localhost:8080/"
        },
        "id": "ZHYMHUaZExK4",
        "outputId": "0ae9135d-e295-4008-e14a-9c4e73f436d9"
      },
      "execution_count": 24,
      "outputs": [
        {
          "output_type": "execute_result",
          "data": {
            "text/plain": [
              "[1, 4, 9, 16, 25, 36, 49, 64, 81, 100]"
            ]
          },
          "metadata": {},
          "execution_count": 24
        }
      ]
    },
    {
      "cell_type": "code",
      "source": [
        "cube_root = [num ** (1/3) for num in range(1,11)]\n",
        "cube_root"
      ],
      "metadata": {
        "colab": {
          "base_uri": "https://localhost:8080/"
        },
        "id": "Ccz7CEXVFCP5",
        "outputId": "83c79181-3b06-4981-d823-8afc27b98a5e"
      },
      "execution_count": 31,
      "outputs": [
        {
          "output_type": "execute_result",
          "data": {
            "text/plain": [
              "[1.0,\n",
              " 1.2599210498948732,\n",
              " 1.4422495703074083,\n",
              " 1.5874010519681994,\n",
              " 1.7099759466766968,\n",
              " 1.8171205928321397,\n",
              " 1.912931182772389,\n",
              " 2.0,\n",
              " 2.080083823051904,\n",
              " 2.154434690031884]"
            ]
          },
          "metadata": {},
          "execution_count": 31
        }
      ]
    },
    {
      "cell_type": "code",
      "source": [
        "someList = [-3, 5, 8, 4, 1, -6, 7, 10]\n",
        "\n",
        "def getEvenNumber(i):\n",
        "    return i % 2 == 0 #Return only even numbers\n",
        "\n",
        "list(filter(getEvenNumber, someList))\n",
        "# [i for i in someList if getEvenNumber(i)]\n",
        "\n",
        "#Or a one liner\n",
        "[i for i in someList if i % 2 == 0]"
      ],
      "metadata": {
        "colab": {
          "base_uri": "https://localhost:8080/"
        },
        "id": "4jFbZqvgImGB",
        "outputId": "6e68d847-7e97-41ba-9e39-1c1f7d4a8feb"
      },
      "execution_count": 37,
      "outputs": [
        {
          "output_type": "execute_result",
          "data": {
            "text/plain": [
              "[8, 4, -6, 10]"
            ]
          },
          "metadata": {},
          "execution_count": 37
        }
      ]
    },
    {
      "cell_type": "code",
      "source": [
        "someList = [1,2,3,4,5,6,7,8,9,10]\n",
        "onlyOdd = list(filter(lambda x: x % 2 != 0, someList))\n",
        "onlyOdd"
      ],
      "metadata": {
        "colab": {
          "base_uri": "https://localhost:8080/"
        },
        "id": "zyDM0LYMLzd_",
        "outputId": "b8379160-56fb-4ac4-d0a7-94db51ff0772"
      },
      "execution_count": 39,
      "outputs": [
        {
          "output_type": "execute_result",
          "data": {
            "text/plain": [
              "[1, 3, 5, 7, 9]"
            ]
          },
          "metadata": {},
          "execution_count": 39
        }
      ]
    },
    {
      "cell_type": "code",
      "source": [
        "someList = [1,2,3,4,5,6,-1,-2,-3,-4,-5,0]\n",
        "res =  sorted(filter(lambda x: x > 0, someList)) + sorted(filter(lambda x: x < 0, someList))\n",
        "res"
      ],
      "metadata": {
        "colab": {
          "base_uri": "https://localhost:8080/"
        },
        "id": "7dtQPIMRM48j",
        "outputId": "2e165c14-4ccd-4ce4-d915-c20d66ef277d"
      },
      "execution_count": 41,
      "outputs": [
        {
          "output_type": "execute_result",
          "data": {
            "text/plain": [
              "[1, 2, 3, 4, 5, 6, -5, -4, -3, -2, -1]"
            ]
          },
          "metadata": {},
          "execution_count": 41
        }
      ]
    },
    {
      "cell_type": "code",
      "source": [],
      "metadata": {
        "id": "xP0g3qG_OzeC"
      },
      "execution_count": null,
      "outputs": []
    }
  ]
}