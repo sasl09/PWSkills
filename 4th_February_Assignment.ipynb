{
  "nbformat": 4,
  "nbformat_minor": 0,
  "metadata": {
    "colab": {
      "provenance": [],
      "authorship_tag": "ABX9TyMmvImzQeSMdGbQz7Wco4RW",
      "include_colab_link": true
    },
    "kernelspec": {
      "name": "python3",
      "display_name": "Python 3"
    },
    "language_info": {
      "name": "python"
    }
  },
  "cells": [
    {
      "cell_type": "markdown",
      "metadata": {
        "id": "view-in-github",
        "colab_type": "text"
      },
      "source": [
        "<a href=\"https://colab.research.google.com/github/sasl09/PWSkills/blob/main/4th_February_Assignment.ipynb\" target=\"_parent\"><img src=\"https://colab.research.google.com/assets/colab-badge.svg\" alt=\"Open In Colab\"/></a>"
      ]
    },
    {
      "cell_type": "markdown",
      "source": [
        "# 1.-"
      ],
      "metadata": {
        "id": "dcTvJ95iXpoV"
      }
    },
    {
      "cell_type": "code",
      "source": [
        "#Sort list of tuples by number order (index 1 of each tuple)\n",
        "listTuples = [('Sachin Tendulkar', 34357), ('Ricky Ponting', 27483), ('Jack Kallis', 25534), ('Virat Kohli', 24936)]\n",
        "print(\"Original list of tuples:\")\n",
        "print(listTuples)\n",
        "listTuples.sort(key = lambda x: x[1]) #Apply sort to index 1, which is the one with the numbers\n",
        "print(\"\\nSorted List of Tuples:\")\n",
        "print(listTuples)"
      ],
      "metadata": {
        "colab": {
          "base_uri": "https://localhost:8080/"
        },
        "id": "ZvavHOoB5sBM",
        "outputId": "8ccd59ed-7179-4cc4-cc9d-80b61d86414b"
      },
      "execution_count": 1,
      "outputs": [
        {
          "output_type": "stream",
          "name": "stdout",
          "text": [
            "Original list of tuples:\n",
            "[('Sachin Tendulkar', 34357), ('Ricky Ponting', 27483), ('Jack Kallis', 25534), ('Virat Kohli', 24936)]\n",
            "\n",
            "Sorting the List of Tuples:\n",
            "[('Virat Kohli', 24936), ('Jack Kallis', 25534), ('Ricky Ponting', 27483), ('Sachin Tendulkar', 34357)]\n"
          ]
        }
      ]
    },
    {
      "cell_type": "markdown",
      "source": [
        "# 2.-"
      ],
      "metadata": {
        "id": "srpgRuqhX1d2"
      }
    },
    {
      "cell_type": "code",
      "source": [
        "#Get squares of each item in the list\n",
        "someList = [1, 2, 3, 4, 5, 6, 7, 8, 9, 10]\n",
        "sqrs = list(map(lambda x: x ** 2, someList))\n",
        "sqrs"
      ],
      "metadata": {
        "colab": {
          "base_uri": "https://localhost:8080/"
        },
        "id": "CGa4OIWvEaIC",
        "outputId": "c54baec5-388b-4ca2-bc84-0ad40cb3f5d5"
      },
      "execution_count": 6,
      "outputs": [
        {
          "output_type": "execute_result",
          "data": {
            "text/plain": [
              "[1, 4, 9, 16, 25, 36, 49, 64, 81, 100]"
            ]
          },
          "metadata": {},
          "execution_count": 6
        }
      ]
    },
    {
      "cell_type": "markdown",
      "source": [
        "# 3.-"
      ],
      "metadata": {
        "id": "G3CThrt-X2Y2"
      }
    },
    {
      "cell_type": "code",
      "source": [
        "#Convert a list into a tuple and each of its items in strings\n",
        "someList = [1, 2, 3, 4, 5, 6, 7, 8, 9, 10]\n",
        "tup = tuple(map(lambda x: str(x), someList))\n",
        "tup"
      ],
      "metadata": {
        "colab": {
          "base_uri": "https://localhost:8080/"
        },
        "id": "5WEFhkNgJSvA",
        "outputId": "865f6550-03f4-4939-953b-75b6574c411c"
      },
      "execution_count": 8,
      "outputs": [
        {
          "output_type": "execute_result",
          "data": {
            "text/plain": [
              "('1', '2', '3', '4', '5', '6', '7', '8', '9', '10')"
            ]
          },
          "metadata": {},
          "execution_count": 8
        }
      ]
    },
    {
      "cell_type": "markdown",
      "source": [
        "# 4.-"
      ],
      "metadata": {
        "id": "r6emNe5FX3Dl"
      }
    },
    {
      "cell_type": "code",
      "source": [
        "# importing functools for reduce()\n",
        "import functools\n",
        " \n",
        "# Generate list\n",
        "lis = [i for i in range(1,26)]\n",
        "print(lis)\n",
        " \n",
        "# using reduce to compute product of list\n",
        "print(\"The product of the list elements is : \", end=\"\")\n",
        "print(functools.reduce(lambda a, b: a*b, lis))"
      ],
      "metadata": {
        "colab": {
          "base_uri": "https://localhost:8080/"
        },
        "id": "NI7m8sZsRGOa",
        "outputId": "4b2fe000-171b-48f8-f39a-24096ed5de93"
      },
      "execution_count": 14,
      "outputs": [
        {
          "output_type": "stream",
          "name": "stdout",
          "text": [
            "[1, 2, 3, 4, 5, 6, 7, 8, 9, 10, 11, 12, 13, 14, 15, 16, 17, 18, 19, 20, 21, 22, 23, 24, 25]\n",
            "The product of the list elements is : 15511210043330985984000000\n"
          ]
        }
      ]
    },
    {
      "cell_type": "markdown",
      "source": [
        "# 5.-"
      ],
      "metadata": {
        "id": "dmEi8ShwX3Xu"
      }
    },
    {
      "cell_type": "code",
      "source": [
        "#FIlter out numbers that aren't divisible by either 2 and 3\n",
        "someList = [2, 3, 6, 9, 27, 60, 90, 120, 55, 46]\n",
        "\n",
        "divBy_2_3 = list(filter(lambda x: x % 2 == 0 and x % 3 == 0, someList))\n",
        "divBy_2_3"
      ],
      "metadata": {
        "colab": {
          "base_uri": "https://localhost:8080/"
        },
        "id": "kjf3pHjfS34x",
        "outputId": "98498c8c-ed69-49a4-e716-bbbac987c8b8"
      },
      "execution_count": 19,
      "outputs": [
        {
          "output_type": "execute_result",
          "data": {
            "text/plain": [
              "[6, 60, 90, 120]"
            ]
          },
          "metadata": {},
          "execution_count": 19
        }
      ]
    },
    {
      "cell_type": "markdown",
      "source": [
        "# 6.-"
      ],
      "metadata": {
        "id": "nfqIYjM9yaXr"
      }
    },
    {
      "cell_type": "code",
      "source": [
        "#Find palindromes\n",
        "someList = ['python', 'php', 'aba', 'radar', 'level']\n",
        "\n",
        "palinds = list(filter(lambda x: x == x[::-1], someList))\n",
        "palinds"
      ],
      "metadata": {
        "id": "Jx2SzwGeRHDl",
        "colab": {
          "base_uri": "https://localhost:8080/"
        },
        "outputId": "3d2dc839-40d8-45f0-c091-48a215228a10"
      },
      "execution_count": 20,
      "outputs": [
        {
          "output_type": "execute_result",
          "data": {
            "text/plain": [
              "['php', 'aba', 'radar', 'level']"
            ]
          },
          "metadata": {},
          "execution_count": 20
        }
      ]
    },
    {
      "cell_type": "code",
      "source": [],
      "metadata": {
        "id": "DmkR4Lu5yTER"
      },
      "execution_count": null,
      "outputs": []
    }
  ]
}