{
  "nbformat": 4,
  "nbformat_minor": 0,
  "metadata": {
    "colab": {
      "provenance": [],
      "authorship_tag": "ABX9TyO3LMi/yW79jfGuPdQTIuWS",
      "include_colab_link": true
    },
    "kernelspec": {
      "name": "python3",
      "display_name": "Python 3"
    },
    "language_info": {
      "name": "python"
    }
  },
  "cells": [
    {
      "cell_type": "markdown",
      "metadata": {
        "id": "view-in-github",
        "colab_type": "text"
      },
      "source": [
        "<a href=\"https://colab.research.google.com/github/sasl09/PWSkills/blob/main/12th_February_Assignment.ipynb\" target=\"_parent\"><img src=\"https://colab.research.google.com/assets/colab-badge.svg\" alt=\"Open In Colab\"/></a>"
      ]
    },
    {
      "cell_type": "markdown",
      "source": [
        "# 1.-"
      ],
      "metadata": {
        "id": "dcTvJ95iXpoV"
      }
    },
    {
      "cell_type": "markdown",
      "source": [
        "Errors are the problems in a program due to which the program will stop the execution. On the other hand, exceptions are raised when some internal events occur which changes the normal flow of the program. \n",
        "\n",
        "Syntax errors are mistakes in using the language. Examples of syntax errors are missing a comma or a quotation mark, or misspelling a word. On the other hand, an exception is in a way expected."
      ],
      "metadata": {
        "id": "EEeKVh4u-Dk0"
      }
    },
    {
      "cell_type": "markdown",
      "source": [
        "# 2.-"
      ],
      "metadata": {
        "id": "srpgRuqhX1d2"
      }
    },
    {
      "cell_type": "markdown",
      "source": [
        "If an exception occurs during execution of the try clause, the exception may be handled by an except clause. If the exception is not handled by an except clause, the exception is re-raised after the finally clause has been executed."
      ],
      "metadata": {
        "id": "52F7uxj1-6YC"
      }
    },
    {
      "cell_type": "markdown",
      "source": [
        "# 3.-"
      ],
      "metadata": {
        "id": "X2Nx_8cznCUL"
      }
    },
    {
      "cell_type": "markdown",
      "source": [
        "You can use try, except and finally to handle errors and exception in python.\n",
        "\n",
        "For instance, if you are expecting to get values lower than 10, that´s what you include in the try block, if you get an error, then you put in the except block how you want to handle it.\n",
        "\n",
        "Now, if you want to create an exception, include it with raise, for example, if you don´t get values lower than 10, do something else.\n",
        "\n",
        "Lastly, finally will just run regardless of the results of try and except.\n"
      ],
      "metadata": {
        "id": "IxhB-bsuBWfc"
      }
    },
    {
      "cell_type": "markdown",
      "source": [
        "#4.-"
      ],
      "metadata": {
        "id": "cAY6WooHouDh"
      }
    },
    {
      "cell_type": "code",
      "source": [
        "try: #Try to open a file\n",
        "  f = open(\"demofile.txt\")\n",
        "  try: #If open, try to write something in it\n",
        "    f.write(\"Lorum Ipsum\")\n",
        "  except: #If that´s not possible, print the message.\n",
        "    print(\"Something went wrong when writing to the file\")\n",
        "  finally: #Either way, close the file at this point\n",
        "    f.close()\n",
        "except: #If try couldn´t happen, prin this\n",
        "  print(\"Something went wrong when opening the file\")"
      ],
      "metadata": {
        "id": "xP0g3qG_OzeC",
        "colab": {
          "base_uri": "https://localhost:8080/"
        },
        "outputId": "a0e5ccf8-006a-4b00-f5da-da220d9e75e0"
      },
      "execution_count": 4,
      "outputs": [
        {
          "output_type": "stream",
          "name": "stdout",
          "text": [
            "Something went wrong when opening the file\n"
          ]
        }
      ]
    },
    {
      "cell_type": "markdown",
      "source": [
        "# 5.-"
      ],
      "metadata": {
        "id": "5Lsud6AyC5Fv"
      }
    },
    {
      "cell_type": "markdown",
      "source": [
        "Having custom exceptions - tailored to your specific use cases and that you can raise and catch in specific circumstances - can make your code much more readable and robust, and reduce the amount of code you write later to try and figure out what exactly went wrong."
      ],
      "metadata": {
        "id": "C_GIYtMbC7XH"
      }
    },
    {
      "cell_type": "markdown",
      "source": [
        "#6.- "
      ],
      "metadata": {
        "id": "AGMZI1LPEhzd"
      }
    },
    {
      "cell_type": "code",
      "source": [
        "class IncorrectValueError(Exception):\n",
        "    def __init__(self, value):\n",
        "      message = f\"Got an incorrect value of {value}\"\n",
        "      super().__init__(message)\n",
        "\n",
        "my_value = 9999\n",
        "if my_value > 100:\n",
        "  raise IncorrectValueError(my_value)"
      ],
      "metadata": {
        "id": "FcxZxe3_BFiW",
        "colab": {
          "base_uri": "https://localhost:8080/",
          "height": 209
        },
        "outputId": "406963fe-92c9-4b72-d202-1f62795ff9b5"
      },
      "execution_count": 8,
      "outputs": [
        {
          "output_type": "error",
          "ename": "IncorrectValueError",
          "evalue": "ignored",
          "traceback": [
            "\u001b[0;31m---------------------------------------------------------------------------\u001b[0m",
            "\u001b[0;31mIncorrectValueError\u001b[0m                       Traceback (most recent call last)",
            "\u001b[0;32m<ipython-input-8-50249f66e24b>\u001b[0m in \u001b[0;36m<module>\u001b[0;34m\u001b[0m\n\u001b[1;32m      6\u001b[0m \u001b[0mmy_value\u001b[0m \u001b[0;34m=\u001b[0m \u001b[0;36m9999\u001b[0m\u001b[0;34m\u001b[0m\u001b[0;34m\u001b[0m\u001b[0m\n\u001b[1;32m      7\u001b[0m \u001b[0;32mif\u001b[0m \u001b[0mmy_value\u001b[0m \u001b[0;34m>\u001b[0m \u001b[0;36m100\u001b[0m\u001b[0;34m:\u001b[0m\u001b[0;34m\u001b[0m\u001b[0;34m\u001b[0m\u001b[0m\n\u001b[0;32m----> 8\u001b[0;31m   \u001b[0;32mraise\u001b[0m \u001b[0mIncorrectValueError\u001b[0m\u001b[0;34m(\u001b[0m\u001b[0mmy_value\u001b[0m\u001b[0;34m)\u001b[0m\u001b[0;34m\u001b[0m\u001b[0;34m\u001b[0m\u001b[0m\n\u001b[0m",
            "\u001b[0;31mIncorrectValueError\u001b[0m: Got an incorrect value of 9999"
          ]
        }
      ]
    },
    {
      "cell_type": "code",
      "source": [],
      "metadata": {
        "id": "XWKpLch7Dp1T"
      },
      "execution_count": null,
      "outputs": []
    }
  ]
}