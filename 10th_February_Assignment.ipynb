{
  "nbformat": 4,
  "nbformat_minor": 0,
  "metadata": {
    "colab": {
      "provenance": [],
      "authorship_tag": "ABX9TyMShILgn2JRbE2e0SvKXC9D",
      "include_colab_link": true
    },
    "kernelspec": {
      "name": "python3",
      "display_name": "Python 3"
    },
    "language_info": {
      "name": "python"
    }
  },
  "cells": [
    {
      "cell_type": "markdown",
      "metadata": {
        "id": "view-in-github",
        "colab_type": "text"
      },
      "source": [
        "<a href=\"https://colab.research.google.com/github/sasl09/PWSkills/blob/main/10th_February_Assignment.ipynb\" target=\"_parent\"><img src=\"https://colab.research.google.com/assets/colab-badge.svg\" alt=\"Open In Colab\"/></a>"
      ]
    },
    {
      "cell_type": "markdown",
      "source": [
        "# 1.-"
      ],
      "metadata": {
        "id": "dcTvJ95iXpoV"
      }
    },
    {
      "cell_type": "markdown",
      "source": [
        "open()"
      ],
      "metadata": {
        "id": "ZlSuqChzKYNW"
      }
    },
    {
      "cell_type": "markdown",
      "source": [
        "Read Only (‘r’) : Open text file for reading. The handle is positioned at the beginning of the file. If the file does not exists, raises the I/O error. This is also the default mode in which a file is opened.\n",
        "\n",
        "Read and Write (‘r+’): Open the file for reading and writing. The handle is positioned at the beginning of the file. Raises I/O error if the file does not exist.\n",
        "\n",
        "Write Only (‘w’) : Open the file for writing. For the existing files, the data is truncated and over-written. The handle is positioned at the beginning of the file. Creates the file if the file does not exist.\n",
        "\n",
        "Write and Read (‘w+’) : Open the file for reading and writing. For an existing file, data is truncated and over-written. The handle is positioned at the beginning of the file.\n",
        "\n",
        "Append Only (‘a’): Open the file for writing. The file is created if it does not exist. The handle is positioned at the end of the file. The data being written will be inserted at the end, after the existing data.\n",
        "\n",
        "Append and Read (‘a+’) : Open the file for reading and writing. The file is created if it does not exist. The handle is positioned at the end of the file. The data being written will be inserted at the end, after the existing data."
      ],
      "metadata": {
        "id": "az3CeEKsJjDG"
      }
    },
    {
      "cell_type": "markdown",
      "source": [
        "# 2.-"
      ],
      "metadata": {
        "id": "srpgRuqhX1d2"
      }
    },
    {
      "cell_type": "markdown",
      "source": [
        "Python file method close() closes the opened file. A closed file cannot be read or written any more. Any operation, which requires that the file be opened will raise a ValueError after the file has been closed."
      ],
      "metadata": {
        "id": "Zvd7L7fELuP3"
      }
    },
    {
      "cell_type": "markdown",
      "source": [
        "Operating systems limit the number of open files any single process can have. This number is typically in the thousands. Operating systems set this limit because if a process tries to open thousands of file descriptors, something is probably wrong with the process. Even though thousands of files may seem like a lot, it’s still possible to run into the limit.\n",
        "\n",
        "Apart from the risk of running into the limit, keeping files open leaves you vulnerable to losing data. In general, Python and the operating system work hard to protect you from data loss. But if your program—or computer—crashes, the usual routines may not take place, and open files can get corrupted."
      ],
      "metadata": {
        "id": "Pl6-aI6JJgmG"
      }
    },
    {
      "cell_type": "markdown",
      "source": [
        "# 3.-"
      ],
      "metadata": {
        "id": "X2Nx_8cznCUL"
      }
    },
    {
      "cell_type": "code",
      "source": [
        "#Create file\n",
        "f= open(\"someText.txt\",\"w+\")\n",
        "\n",
        "#Write on it\n",
        "f.write(\"I want to become a Data Scientist\")\n",
        "\n",
        "#Open file and read it\n",
        "f=open(\"someText.txt\", \"r\")\n",
        "f.read()"
      ],
      "metadata": {
        "colab": {
          "base_uri": "https://localhost:8080/",
          "height": 36
        },
        "id": "8gZLWH_WMGeu",
        "outputId": "f1fc3ca2-827b-4a89-8f24-de550918ae83"
      },
      "execution_count": 6,
      "outputs": [
        {
          "output_type": "execute_result",
          "data": {
            "text/plain": [
              "'I want to become a Data Scientist'"
            ],
            "application/vnd.google.colaboratory.intrinsic+json": {
              "type": "string"
            }
          },
          "metadata": {},
          "execution_count": 6
        }
      ]
    },
    {
      "cell_type": "code",
      "source": [
        "f.close()"
      ],
      "metadata": {
        "id": "3fVn1j5MNGcH"
      },
      "execution_count": 7,
      "outputs": []
    },
    {
      "cell_type": "code",
      "source": [
        "f.read()"
      ],
      "metadata": {
        "colab": {
          "base_uri": "https://localhost:8080/",
          "height": 165
        },
        "id": "qE4t8RcpNLd_",
        "outputId": "d728b33f-a0a5-43e0-d116-643f537e5441"
      },
      "execution_count": 8,
      "outputs": [
        {
          "output_type": "error",
          "ename": "ValueError",
          "evalue": "ignored",
          "traceback": [
            "\u001b[0;31m---------------------------------------------------------------------------\u001b[0m",
            "\u001b[0;31mValueError\u001b[0m                                Traceback (most recent call last)",
            "\u001b[0;32m<ipython-input-8-571e9fb02258>\u001b[0m in \u001b[0;36m<module>\u001b[0;34m\u001b[0m\n\u001b[0;32m----> 1\u001b[0;31m \u001b[0mf\u001b[0m\u001b[0;34m.\u001b[0m\u001b[0mread\u001b[0m\u001b[0;34m(\u001b[0m\u001b[0;34m)\u001b[0m\u001b[0;34m\u001b[0m\u001b[0;34m\u001b[0m\u001b[0m\n\u001b[0m",
            "\u001b[0;31mValueError\u001b[0m: I/O operation on closed file."
          ]
        }
      ]
    },
    {
      "cell_type": "code",
      "source": [
        "f = open(\"someText.txt\", \"r\")\n",
        "f.read()"
      ],
      "metadata": {
        "colab": {
          "base_uri": "https://localhost:8080/",
          "height": 36
        },
        "id": "jQRtqOK7NOhv",
        "outputId": "f2cee0db-5230-402f-d7d6-2bd2715327fa"
      },
      "execution_count": 10,
      "outputs": [
        {
          "output_type": "execute_result",
          "data": {
            "text/plain": [
              "'I want to become a Data Scientist'"
            ],
            "application/vnd.google.colaboratory.intrinsic+json": {
              "type": "string"
            }
          },
          "metadata": {},
          "execution_count": 10
        }
      ]
    },
    {
      "cell_type": "code",
      "source": [
        "f.close()"
      ],
      "metadata": {
        "id": "sbgyShabO4RP"
      },
      "execution_count": 11,
      "outputs": []
    },
    {
      "cell_type": "markdown",
      "source": [
        "#4.-"
      ],
      "metadata": {
        "id": "cAY6WooHouDh"
      }
    },
    {
      "cell_type": "markdown",
      "source": [
        "read ( ): Returns the read bytes in the form of a string.\n",
        "\n",
        "readline ( ): Reads a line of the file and returns in the form of a string.\n",
        "\n",
        "readlines ( ): Reads all the lines and returns them as a string element in a list."
      ],
      "metadata": {
        "id": "HPKOPlyJAbrZ"
      }
    },
    {
      "cell_type": "code",
      "source": [
        "f= open(\"someText.txt\",\"w+\")\n",
        "\n",
        "#Write on it\n",
        "f.write(\"\"\"I want to become a Data Scientist\n",
        "            and a Machine Learning and \n",
        "            Deep Learning engineer\"\"\")\n",
        "\n",
        "#Open file and read it\n",
        "f=open(\"someText.txt\", \"r\")\n",
        "wholeStr = f.read()\n",
        "wholeStr"
      ],
      "metadata": {
        "colab": {
          "base_uri": "https://localhost:8080/",
          "height": 36
        },
        "id": "FbR5EXlWAyDD",
        "outputId": "bda1e544-538c-4b5b-ed31-087989cc752a"
      },
      "execution_count": 33,
      "outputs": [
        {
          "output_type": "execute_result",
          "data": {
            "text/plain": [
              "'I want to become a Data Scientist\\n            and a Machine Learning and \\n            Deep Learning engineer'"
            ],
            "application/vnd.google.colaboratory.intrinsic+json": {
              "type": "string"
            }
          },
          "metadata": {},
          "execution_count": 33
        }
      ]
    },
    {
      "cell_type": "code",
      "source": [
        "f= open(\"someText.txt\",\"w+\")\n",
        "\n",
        "#Write on it\n",
        "f.write(\"\"\"I want to become a Data Scientist\n",
        "            and a Machine Learning and \n",
        "            Deep Learning engineer\"\"\")\n",
        "\n",
        "#Open file and read it\n",
        "f=open(\"someText.txt\", \"r\")\n",
        "firstLine = f.readline(10) #Reads first 10 indexes in first line\n",
        "firstLine"
      ],
      "metadata": {
        "colab": {
          "base_uri": "https://localhost:8080/",
          "height": 36
        },
        "id": "fm9R41KXPNve",
        "outputId": "9c870d70-1ad5-4bea-e627-f4e33c5f6df5"
      },
      "execution_count": 37,
      "outputs": [
        {
          "output_type": "execute_result",
          "data": {
            "text/plain": [
              "'I want to '"
            ],
            "application/vnd.google.colaboratory.intrinsic+json": {
              "type": "string"
            }
          },
          "metadata": {},
          "execution_count": 37
        }
      ]
    },
    {
      "cell_type": "code",
      "source": [
        "f= open(\"someText.txt\",\"w+\")\n",
        "\n",
        "#Write on it\n",
        "f.write(\"\"\"I want to become a Data Scientist\n",
        "            and a Machine Learning and \n",
        "            Deep Learning engineer\"\"\")\n",
        "\n",
        "#Open file and read it\n",
        "f=open(\"someText.txt\", \"r\")\n",
        "lines = f.readlines()\n",
        "lines"
      ],
      "metadata": {
        "colab": {
          "base_uri": "https://localhost:8080/"
        },
        "id": "iQhgdYLYP4Xu",
        "outputId": "87cf7b99-052e-49b1-983b-72597457e660"
      },
      "execution_count": 35,
      "outputs": [
        {
          "output_type": "execute_result",
          "data": {
            "text/plain": [
              "['I want to become a Data Scientist\\n',\n",
              " '            and a Machine Learning and \\n',\n",
              " '            Deep Learning engineer']"
            ]
          },
          "metadata": {},
          "execution_count": 35
        }
      ]
    },
    {
      "cell_type": "code",
      "source": [
        "f.close()"
      ],
      "metadata": {
        "id": "GLaUwzjZQk-n"
      },
      "execution_count": 38,
      "outputs": []
    },
    {
      "cell_type": "markdown",
      "source": [
        "# 5.-"
      ],
      "metadata": {
        "id": "5Lsud6AyC5Fv"
      }
    },
    {
      "cell_type": "markdown",
      "source": [
        "The with statement works with the open() function to open a file. Unlike open() where you have to close the file with the close() method, the with statement closes the file for you without you telling it to."
      ],
      "metadata": {
        "id": "C_GIYtMbC7XH"
      }
    },
    {
      "cell_type": "markdown",
      "source": [
        "#6.-"
      ],
      "metadata": {
        "id": "X2eyX6imRHQv"
      }
    },
    {
      "cell_type": "markdown",
      "source": [
        "The only difference between the write() and writelines() is that write() is used to write a string to an already opened file while writelines() method is used to write a list of strings in an opened file.\n",
        "\n",
        "\n"
      ],
      "metadata": {
        "id": "NvxUCvnMRKIn"
      }
    },
    {
      "cell_type": "code",
      "source": [],
      "metadata": {
        "id": "jb3Bd0mcSfRy"
      },
      "execution_count": null,
      "outputs": []
    }
  ]
}