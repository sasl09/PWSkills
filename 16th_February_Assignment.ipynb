{
  "nbformat": 4,
  "nbformat_minor": 0,
  "metadata": {
    "colab": {
      "provenance": [],
      "authorship_tag": "ABX9TyPMmA9YhpBNCoKa3VzienS6",
      "include_colab_link": true
    },
    "kernelspec": {
      "name": "python3",
      "display_name": "Python 3"
    },
    "language_info": {
      "name": "python"
    }
  },
  "cells": [
    {
      "cell_type": "markdown",
      "metadata": {
        "id": "view-in-github",
        "colab_type": "text"
      },
      "source": [
        "<a href=\"https://colab.research.google.com/github/sasl09/PWSkills/blob/main/16th_February_Assignment.ipynb\" target=\"_parent\"><img src=\"https://colab.research.google.com/assets/colab-badge.svg\" alt=\"Open In Colab\"/></a>"
      ]
    },
    {
      "cell_type": "markdown",
      "source": [
        "# 1.-"
      ],
      "metadata": {
        "id": "dcTvJ95iXpoV"
      }
    },
    {
      "cell_type": "markdown",
      "source": [
        "-A database is a system that allows you to store and organize data in a certain way. Plus, it allows access to it.\n",
        "\n",
        "-In SQL, data is stored in rows and tables that are linked in various ways. One table record may link to one other or to many others, or many table records may be related to many records in another table. These relational databases, which offer fast data storage and recovery, can handle great amounts of data and complex SQL queries.\n",
        "\n",
        "-NoSQL is a non-relational database, meaning it allows different structures than a SQL database (not rows and columns) and more flexibility to use a format that best fits the data. "
      ],
      "metadata": {
        "id": "EEeKVh4u-Dk0"
      }
    },
    {
      "cell_type": "markdown",
      "source": [
        "# 2.-"
      ],
      "metadata": {
        "id": "srpgRuqhX1d2"
      }
    },
    {
      "cell_type": "markdown",
      "source": [
        "-A data definition language (DDL) is a computer language used to create and modify the structure of database objects in a database.\n"
      ],
      "metadata": {
        "id": "52F7uxj1-6YC"
      }
    },
    {
      "cell_type": "code",
      "source": [
        "# The CREATE TABLE command creates a new table in the database.\n",
        "\n",
        "# The following SQL creates a table called \"Persons\" that contains five columns: PersonID, LastName, FirstName, Address, and City:\n",
        "\n",
        "CREATE TABLE Persons (\n",
        "    PersonID int,\n",
        "    LastName varchar(255),\n",
        "    FirstName varchar(255),\n",
        "    Address varchar(255),\n",
        "    City varchar(255)\n",
        ");"
      ],
      "metadata": {
        "id": "Sn4RBtGG_-fp"
      },
      "execution_count": null,
      "outputs": []
    },
    {
      "cell_type": "code",
      "source": [
        "# The ALTER TABLE command adds, deletes, or modifies columns in a table.\n",
        "\n",
        "# The ALTER TABLE command also adds and deletes various constraints in a table.\n",
        "\n",
        "# The following SQL adds an \"Email\" column to the \"Customers\" table:\n",
        "\n",
        "ALTER TABLE Customers\n",
        "ADD Email varchar(255);"
      ],
      "metadata": {
        "id": "jGT3-sGqAjzI"
      },
      "execution_count": null,
      "outputs": []
    },
    {
      "cell_type": "code",
      "source": [
        "# The DROP TABLE command deletes a table in the database.\n",
        "\n",
        "# The following SQL deletes the table \"Shippers\":\n",
        "\n",
        "DROP TABLE Shippers;"
      ],
      "metadata": {
        "id": "0V2X24p6AkWO"
      },
      "execution_count": null,
      "outputs": []
    },
    {
      "cell_type": "code",
      "source": [
        "# The TRUNCATE TABLE command deletes the data inside a table, but not the table itself.\n",
        "\n",
        "# The following SQL truncates the table \"Categories\": \n",
        "\n",
        "TRUNCATE TABLE Categories;"
      ],
      "metadata": {
        "id": "J70FgqtfAkdj"
      },
      "execution_count": null,
      "outputs": []
    },
    {
      "cell_type": "markdown",
      "source": [
        "# 3.-"
      ],
      "metadata": {
        "id": "X2Nx_8cznCUL"
      }
    },
    {
      "cell_type": "markdown",
      "source": [
        "Data Manipulation Language (DML) is a class of SQL statements that are used to query, edit, add and delete row-level data from database tables or views. The main DML statements are SELECT, INSERT, DELETE, and UPDATE.\n"
      ],
      "metadata": {
        "id": "IxhB-bsuBWfc"
      }
    },
    {
      "cell_type": "code",
      "source": [
        "# New records can be inserted into tables using an INSERT statement. \n",
        "\n",
        "INSERT INTO Course (CourseCode, Description, Fee) \n",
        "VALUES ('CR7531', 'Basketball', 25);"
      ],
      "metadata": {
        "id": "sA9Qv5awBrI1"
      },
      "execution_count": null,
      "outputs": []
    },
    {
      "cell_type": "code",
      "source": [
        "# Records can be modified by using an UPDATE statement.\n",
        "\n",
        "UPDATE Course\n",
        "SET Fee = 25\n",
        "WHERE Description = 'Tennis';"
      ],
      "metadata": {
        "id": "Nwa-hSpGBwft"
      },
      "execution_count": null,
      "outputs": []
    },
    {
      "cell_type": "code",
      "source": [
        "# Data can be deleted from a table by using a DELETE statement.\n",
        "\n",
        "DELETE FROM Member \n",
        "WHERE MemberId = '131092';"
      ],
      "metadata": {
        "id": "iTxS0B97B6Iq"
      },
      "execution_count": null,
      "outputs": []
    },
    {
      "cell_type": "markdown",
      "source": [
        "#4.-"
      ],
      "metadata": {
        "id": "cAY6WooHouDh"
      }
    },
    {
      "cell_type": "markdown",
      "source": [
        "Data Query Language (DQL) is used to fetch the data from the database. It uses only one command: SELECT. a. SELECT"
      ],
      "metadata": {
        "id": "sKvXjP2eCUIQ"
      }
    },
    {
      "cell_type": "code",
      "source": [
        "# The SELECT statement is used to select data from a database.\n",
        "\n",
        "# The data returned is stored in a result table, called the result-set.\n",
        "\n",
        "# SELECT * FROM table_name;"
      ],
      "metadata": {
        "id": "xP0g3qG_OzeC"
      },
      "execution_count": 1,
      "outputs": []
    },
    {
      "cell_type": "markdown",
      "source": [
        "# 5.-"
      ],
      "metadata": {
        "id": "5Lsud6AyC5Fv"
      }
    },
    {
      "cell_type": "markdown",
      "source": [
        "-A primary key generally focuses on the uniqueness of the table. It assures the value in the specific column is unique. \n",
        "\n",
        "-A foreign key is generally used to build a relationship between the two tables."
      ],
      "metadata": {
        "id": "C_GIYtMbC7XH"
      }
    },
    {
      "cell_type": "markdown",
      "source": [
        "#6.- "
      ],
      "metadata": {
        "id": "AGMZI1LPEhzd"
      }
    },
    {
      "cell_type": "code",
      "source": [
        "!pip install mysql-connector"
      ],
      "metadata": {
        "colab": {
          "base_uri": "https://localhost:8080/"
        },
        "id": "6XV3hdw8DLmO",
        "outputId": "2bb9bb00-0221-4c11-8199-b5b9d88180f6"
      },
      "execution_count": 6,
      "outputs": [
        {
          "output_type": "stream",
          "name": "stdout",
          "text": [
            "Looking in indexes: https://pypi.org/simple, https://us-python.pkg.dev/colab-wheels/public/simple/\n",
            "Collecting mysql-connector\n",
            "  Downloading mysql-connector-2.2.9.tar.gz (11.9 MB)\n",
            "\u001b[2K     \u001b[90m━━━━━━━━━━━━━━━━━━━━━━━━━━━━━━━━━━━━━━━━\u001b[0m \u001b[32m11.9/11.9 MB\u001b[0m \u001b[31m73.2 MB/s\u001b[0m eta \u001b[36m0:00:00\u001b[0m\n",
            "\u001b[?25h  Preparing metadata (setup.py) ... \u001b[?25l\u001b[?25hdone\n",
            "Building wheels for collected packages: mysql-connector\n",
            "  Building wheel for mysql-connector (setup.py) ... \u001b[?25l\u001b[?25hdone\n",
            "  Created wheel for mysql-connector: filename=mysql_connector-2.2.9-cp38-cp38-linux_x86_64.whl size=247965 sha256=2617b17627ab5e0e248709fbec9a175b030fe54f24347a47bbcca0bc810928be\n",
            "  Stored in directory: /root/.cache/pip/wheels/57/e4/98/5feafb5c393dd2540e44b064a6f95832990d543e5b4f53ea8f\n",
            "Successfully built mysql-connector\n",
            "Installing collected packages: mysql-connector\n",
            "Successfully installed mysql-connector-2.2.9\n"
          ]
        }
      ]
    },
    {
      "cell_type": "code",
      "source": [
        "import mysql.connector\n",
        "mydb = mysql.connector.connect( #This is the object that will actually make a connection between this notebook and mysql\n",
        "  host=\"localhost\", #These are access credentials\n",
        "  user=\"abc\",\n",
        "  password=\"password\"\n",
        ")\n",
        "print(mydb)\n",
        "mycursor = mydb.cursor() #This is the object that brings mysql to this notebook so that we can use it here\n",
        "mycursor.execute(\"SHOW DATABASES\") #Execute will perform actions passed as its parameters\n",
        "for x in mycursor:\n",
        "  print(x)"
      ],
      "metadata": {
        "id": "FcxZxe3_BFiW"
      },
      "execution_count": 8,
      "outputs": []
    },
    {
      "cell_type": "code",
      "source": [
        "# "
      ],
      "metadata": {
        "id": "XWKpLch7Dp1T"
      },
      "execution_count": null,
      "outputs": []
    }
  ]
}