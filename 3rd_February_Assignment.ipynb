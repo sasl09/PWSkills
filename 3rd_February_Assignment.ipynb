{
  "nbformat": 4,
  "nbformat_minor": 0,
  "metadata": {
    "colab": {
      "provenance": [],
      "authorship_tag": "ABX9TyM+VRZcTfVJSmS8zHWPZKqM",
      "include_colab_link": true
    },
    "kernelspec": {
      "name": "python3",
      "display_name": "Python 3"
    },
    "language_info": {
      "name": "python"
    }
  },
  "cells": [
    {
      "cell_type": "markdown",
      "metadata": {
        "id": "view-in-github",
        "colab_type": "text"
      },
      "source": [
        "<a href=\"https://colab.research.google.com/github/sasl09/PWSkills/blob/main/3rd_February_Assignment.ipynb\" target=\"_parent\"><img src=\"https://colab.research.google.com/assets/colab-badge.svg\" alt=\"Open In Colab\"/></a>"
      ]
    },
    {
      "cell_type": "markdown",
      "source": [
        "# 1.-"
      ],
      "metadata": {
        "id": "dcTvJ95iXpoV"
      }
    },
    {
      "cell_type": "markdown",
      "source": [
        "## def."
      ],
      "metadata": {
        "id": "GzLXj26JH4ey"
      }
    },
    {
      "cell_type": "code",
      "source": [
        "someList = []\n",
        "def retOddNums(r):\n",
        "  for i in range(1, r+1):\n",
        "    if i % 2 != 0:\n",
        "      someList.append(i)\n",
        "  return someList\n",
        "\n",
        "retOddNums(25)"
      ],
      "metadata": {
        "colab": {
          "base_uri": "https://localhost:8080/"
        },
        "id": "ZvavHOoB5sBM",
        "outputId": "2729727b-af2f-45ca-f627-914a37652f63"
      },
      "execution_count": 1,
      "outputs": [
        {
          "output_type": "execute_result",
          "data": {
            "text/plain": [
              "[1, 3, 5, 7, 9, 11, 13, 15, 17, 19, 21, 23, 25]"
            ]
          },
          "metadata": {},
          "execution_count": 1
        }
      ]
    },
    {
      "cell_type": "markdown",
      "source": [
        "# 2.-"
      ],
      "metadata": {
        "id": "srpgRuqhX1d2"
      }
    },
    {
      "cell_type": "markdown",
      "source": [
        "## *args in function definitions in python is used to pass a variable number of arguments to a function. It is used to pass a non-key worded, variable-length argument list. \n",
        "## **kwargs accept keyworded variable-length argument passed by the function call. \n",
        "\n",
        "## In other words, you use them when you don't know how many arguments you will pass to a function, or if you know there will be many"
      ],
      "metadata": {
        "id": "D7AcFHAYIVfV"
      }
    },
    {
      "cell_type": "code",
      "source": [
        "def myFun(*args):\n",
        "    for arg in args:\n",
        "        print(arg)\n",
        " \n",
        "myFun('Hello', 'my', 'name', 'is', 'Saul')"
      ],
      "metadata": {
        "colab": {
          "base_uri": "https://localhost:8080/"
        },
        "id": "CGa4OIWvEaIC",
        "outputId": "7059aa46-1d6c-4056-a543-bbe9694306fb"
      },
      "execution_count": 7,
      "outputs": [
        {
          "output_type": "stream",
          "name": "stdout",
          "text": [
            "Hello\n",
            "my\n",
            "name\n",
            "is\n",
            "Saul\n"
          ]
        }
      ]
    },
    {
      "cell_type": "code",
      "source": [
        "def myFun(**kwargs):\n",
        "    for key, value in kwargs.items():\n",
        "        print(\"%s == %s\" % (key, value))\n",
        " \n",
        "myFun(first='Saul', mid='Armand', last='Solis')"
      ],
      "metadata": {
        "colab": {
          "base_uri": "https://localhost:8080/"
        },
        "id": "SKrso4VvEfcB",
        "outputId": "865ea852-bfdb-4e9d-9131-0d5a37fe4215"
      },
      "execution_count": 8,
      "outputs": [
        {
          "output_type": "stream",
          "name": "stdout",
          "text": [
            "first == Saul\n",
            "mid == Armand\n",
            "last == Solis\n"
          ]
        }
      ]
    },
    {
      "cell_type": "markdown",
      "source": [
        "# 3.-"
      ],
      "metadata": {
        "id": "G3CThrt-X2Y2"
      }
    },
    {
      "cell_type": "markdown",
      "source": [
        "## object that is used to iterate over iterable objects like lists, tuples, dicts, and sets. \n",
        "\n",
        "## The iter() method initializes the iteration object, and the method next() iterates"
      ],
      "metadata": {
        "id": "pu4QDlseJP1y"
      }
    },
    {
      "cell_type": "code",
      "source": [
        "#This code will convert a list into a set without duplicates\n",
        "List = [2, 4, 6, 8, 10, 12, 14, 16, 18, 20]\n",
        "iterList = iter(List)\n",
        "print(next(iterList))\n",
        "print(next(iterList))\n",
        "print(next(iterList))\n",
        "print(next(iterList))\n",
        "print(next(iterList))"
      ],
      "metadata": {
        "colab": {
          "base_uri": "https://localhost:8080/"
        },
        "id": "5WEFhkNgJSvA",
        "outputId": "6b5e4933-491f-4250-f5c0-18d2e2decd21"
      },
      "execution_count": 11,
      "outputs": [
        {
          "output_type": "stream",
          "name": "stdout",
          "text": [
            "2\n",
            "4\n",
            "6\n",
            "8\n",
            "10\n"
          ]
        }
      ]
    },
    {
      "cell_type": "markdown",
      "source": [
        "# 4.-"
      ],
      "metadata": {
        "id": "r6emNe5FX3Dl"
      }
    },
    {
      "cell_type": "markdown",
      "source": [
        "## A generator-function is defined like a normal function, but whenever it needs to generate a value, it does so with the yield keyword rather than return. \n",
        "\n",
        "## The yield word is necessary to return values without stopping the whole function, just as return would.\n"
      ],
      "metadata": {
        "id": "KR5QI4j4LYER"
      }
    },
    {
      "cell_type": "code",
      "source": [
        "def someGenerator():\n",
        "    yield 1           \n",
        "    yield 2           \n",
        "    yield 3           \n",
        "  \n",
        "# Driver code to check above generator function\n",
        "for value in someGenerator():\n",
        "    print(value)"
      ],
      "metadata": {
        "colab": {
          "base_uri": "https://localhost:8080/"
        },
        "id": "NI7m8sZsRGOa",
        "outputId": "b2557340-f185-4d57-82c5-71e2254b80e2"
      },
      "execution_count": 32,
      "outputs": [
        {
          "output_type": "stream",
          "name": "stdout",
          "text": [
            "1\n",
            "2\n",
            "3\n"
          ]
        }
      ]
    },
    {
      "cell_type": "code",
      "source": [
        "def someGenerator(n):\n",
        "  for i in range(n):\n",
        "    if i % 2 == 0:\n",
        "      yield i                    \n",
        "  \n",
        "# Driver code to check above generator function\n",
        "for value in someGenerator(15):\n",
        "    print(value)"
      ],
      "metadata": {
        "colab": {
          "base_uri": "https://localhost:8080/"
        },
        "id": "Fou1SFu7MSdC",
        "outputId": "a1bb94ee-0f22-4386-b0b0-3f83526a5581"
      },
      "execution_count": 36,
      "outputs": [
        {
          "output_type": "stream",
          "name": "stdout",
          "text": [
            "0\n",
            "2\n",
            "4\n",
            "6\n",
            "8\n",
            "10\n",
            "12\n",
            "14\n"
          ]
        }
      ]
    },
    {
      "cell_type": "markdown",
      "source": [
        "# 5.-"
      ],
      "metadata": {
        "id": "dmEi8ShwX3Xu"
      }
    },
    {
      "cell_type": "code",
      "source": [
        "someList = []\n",
        "def isPrime(n):\n",
        "  #Get rid of number 1 by default\n",
        "  if n <= 1 :\n",
        "    return False\n",
        " \n",
        "  #Get rid of numbers if their remainder when divided by n is 0 (means they are divisible by a number other than 1 or themselves)\n",
        "  for i in range(2, n):\n",
        "    if n % i == 0:\n",
        "      return False\n",
        "    elif n % i != 0:\n",
        "      someList.append(n)\n",
        "  return set(someList)\n",
        "\n",
        "#Trigger function\n",
        "def printPrime(n):\n",
        "    for i in range(2, n + 1):\n",
        "        if isPrime(i):\n",
        "          print(i, end = \" \")\n",
        "\n",
        "printPrime(1000)\n",
        "\n",
        "# This code is contributed\n",
        "# by Ankit Rai"
      ],
      "metadata": {
        "colab": {
          "base_uri": "https://localhost:8080/"
        },
        "id": "kjf3pHjfS34x",
        "outputId": "3143216d-45ee-4136-e564-25cd19f8a729"
      },
      "execution_count": 123,
      "outputs": [
        {
          "output_type": "stream",
          "name": "stdout",
          "text": [
            "3 5 7 11 13 17 19 23 29 31 37 41 43 47 53 59 61 67 71 73 79 83 89 97 101 103 107 109 113 127 131 137 139 149 151 157 163 167 173 179 181 191 193 197 199 211 223 227 229 233 239 241 251 257 263 269 271 277 281 283 293 307 311 313 317 331 337 347 349 353 359 367 373 379 383 389 397 401 409 419 421 431 433 439 443 449 457 461 463 467 479 487 491 499 503 509 521 523 541 547 557 563 569 571 577 587 593 599 601 607 613 617 619 631 641 643 647 653 659 661 673 677 683 691 701 709 719 727 733 739 743 751 757 761 769 773 787 797 809 811 821 823 827 829 839 853 857 859 863 877 881 883 887 907 911 919 929 937 941 947 953 967 971 977 983 991 997 "
          ]
        }
      ]
    },
    {
      "cell_type": "code",
      "source": [
        "#Print only first 20\n",
        "iterList = iter(someList)\n",
        "for i in range(20):\n",
        "  print(next(iterList))"
      ],
      "metadata": {
        "colab": {
          "base_uri": "https://localhost:8080/"
        },
        "id": "iOLDOFBEszg-",
        "outputId": "270fddf6-6b43-4a6c-e7ae-d19a3839fd20"
      },
      "execution_count": 124,
      "outputs": [
        {
          "output_type": "stream",
          "name": "stdout",
          "text": [
            "3\n",
            "5\n",
            "5\n",
            "5\n",
            "7\n",
            "7\n",
            "7\n",
            "7\n",
            "7\n",
            "9\n",
            "11\n",
            "11\n",
            "11\n",
            "11\n",
            "11\n",
            "11\n",
            "11\n",
            "11\n",
            "11\n",
            "13\n"
          ]
        }
      ]
    },
    {
      "cell_type": "code",
      "source": [],
      "metadata": {
        "id": "Jx2SzwGeRHDl"
      },
      "execution_count": null,
      "outputs": []
    }
  ]
}