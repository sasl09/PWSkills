{
  "nbformat": 4,
  "nbformat_minor": 0,
  "metadata": {
    "colab": {
      "provenance": [],
      "authorship_tag": "ABX9TyO8pIEWR3mi84DW/8ASyFbR",
      "include_colab_link": true
    },
    "kernelspec": {
      "name": "python3",
      "display_name": "Python 3"
    },
    "language_info": {
      "name": "python"
    }
  },
  "cells": [
    {
      "cell_type": "markdown",
      "metadata": {
        "id": "view-in-github",
        "colab_type": "text"
      },
      "source": [
        "<a href=\"https://colab.research.google.com/github/sasl09/PWSkills/blob/main/5th_February_Assignment.ipynb\" target=\"_parent\"><img src=\"https://colab.research.google.com/assets/colab-badge.svg\" alt=\"Open In Colab\"/></a>"
      ]
    },
    {
      "cell_type": "markdown",
      "source": [
        "# 1.-"
      ],
      "metadata": {
        "id": "dcTvJ95iXpoV"
      }
    },
    {
      "cell_type": "markdown",
      "source": [
        "### Classes are user-defined data types that act as the blueprint for individual objects, attributes and methods.\n",
        "### Objects are instances of a class created with specifically defined data. Objects can correspond to real-world objects or an abstract entity.\n",
        "\n",
        "### For instance, a class school, will have the objects: teachers, students, classrooms, library, gym, etc..."
      ],
      "metadata": {
        "id": "2aqR-4Ruios2"
      }
    },
    {
      "cell_type": "markdown",
      "source": [
        "# 2.-"
      ],
      "metadata": {
        "id": "srpgRuqhX1d2"
      }
    },
    {
      "cell_type": "markdown",
      "source": [
        "### Inheritance, Polymorphism, Encapsulation and Abstraction."
      ],
      "metadata": {
        "id": "OV7oPhE9jNcz"
      }
    },
    {
      "cell_type": "markdown",
      "source": [
        "# 3.-"
      ],
      "metadata": {
        "id": "G3CThrt-X2Y2"
      }
    },
    {
      "cell_type": "markdown",
      "source": [
        "### The __init__ method lets the class initialize the object's attributes and is called automatically every time the class is being used to create a new object."
      ],
      "metadata": {
        "id": "f15KBAzlnA-r"
      }
    },
    {
      "cell_type": "markdown",
      "source": [
        "# 4.-"
      ],
      "metadata": {
        "id": "r6emNe5FX3Dl"
      }
    },
    {
      "cell_type": "markdown",
      "source": [
        "### The self parameter is a reference to the current instance of the class, and is used to access variables that belongs to the class. This handy keyword allows you to access variables, attributes, and methods of a defined class in Python."
      ],
      "metadata": {
        "id": "FRNuYGuInU96"
      }
    },
    {
      "cell_type": "markdown",
      "source": [
        "# 5.-"
      ],
      "metadata": {
        "id": "dmEi8ShwX3Xu"
      }
    },
    {
      "cell_type": "markdown",
      "source": [
        "### It is a mechanism that allows you to create a hierarchy of classes that share a set of properties and methods by deriving a class from another class. Inheritance is the capability of one class to derive or inherit the properties from another class. "
      ],
      "metadata": {
        "id": "nfqIYjM9yaXr"
      }
    },
    {
      "cell_type": "markdown",
      "source": [
        "### The four types of inheritance are: Single, Multiple, Multilevel and hierarchical."
      ],
      "metadata": {
        "id": "j4junixtF2n5"
      }
    },
    {
      "cell_type": "code",
      "source": [
        "#Single\n",
        "#When a child class inherits only a single parent class.\n",
        "\n",
        "class Parent:\n",
        "     def func1(self):\n",
        "          print(\"this is function one\")\n",
        "class Child(Parent):\n",
        "     def func2(self):\n",
        "          print(\" this is function 2 \")\n",
        "ob = Child()\n",
        "ob.func1()\n",
        "ob.func2()"
      ],
      "metadata": {
        "id": "DmkR4Lu5yTER",
        "colab": {
          "base_uri": "https://localhost:8080/"
        },
        "outputId": "4c6eea42-1b3c-42be-f593-7f0b75df6357"
      },
      "execution_count": 3,
      "outputs": [
        {
          "output_type": "stream",
          "name": "stdout",
          "text": [
            "this is function one\n",
            " this is function 2 \n"
          ]
        }
      ]
    },
    {
      "cell_type": "code",
      "source": [
        "#Multiple\n",
        "#When a child class inherits from more than one parent class.\n",
        "\n",
        "class Parent:\n",
        "   def func1(self):\n",
        "        print(\"this is function 1\")\n",
        "class Parent2:\n",
        "   def func2(self):\n",
        "        print(\"this is function 2\")\n",
        "class Child(Parent , Parent2):\n",
        "    def func3(self):\n",
        "        print(\"this is function 3\")\n",
        " \n",
        "ob = Child()\n",
        "ob.func1()\n",
        "ob.func2()\n",
        "ob.func3()\n"
      ],
      "metadata": {
        "colab": {
          "base_uri": "https://localhost:8080/"
        },
        "id": "sBbI5N-jF1zS",
        "outputId": "e2e0c5b4-1a14-459f-b3fa-37a5377e2d1d"
      },
      "execution_count": 4,
      "outputs": [
        {
          "output_type": "stream",
          "name": "stdout",
          "text": [
            "this is function 1\n",
            "this is function 2\n",
            "this is function 3\n"
          ]
        }
      ]
    },
    {
      "cell_type": "code",
      "source": [
        "#Multilevel \n",
        "#When a child class becomes a parent class for another child class.\n",
        "\n",
        "class Parent:\n",
        "      def func1(self):\n",
        "          print(\"this is function 1\")\n",
        "class Child(Parent):\n",
        "      def func2(self):\n",
        "          print(\"this is function 2\")\n",
        "class Child2(Child):\n",
        "      def func3(self):\n",
        "          print(\"this is function 3\")\n",
        "ob = Child2()\n",
        "ob.func1()\n",
        "ob.func2()\n",
        "ob.func3()"
      ],
      "metadata": {
        "colab": {
          "base_uri": "https://localhost:8080/"
        },
        "id": "rfadoj61GTL9",
        "outputId": "9dd60584-43fd-4d00-c328-4f902476b712"
      },
      "execution_count": 6,
      "outputs": [
        {
          "output_type": "stream",
          "name": "stdout",
          "text": [
            "this is function 1\n",
            "this is function 2\n",
            "this is function 3\n"
          ]
        }
      ]
    },
    {
      "cell_type": "code",
      "source": [
        "#Hierarchical \n",
        "#Hierarchical inheritance involves multiple inheritance from the same base or parent class.\n",
        "\n",
        "class Parent:\n",
        "      def func1(self):\n",
        "          print(\"this is function 1\")\n",
        "class Child(Parent):\n",
        "      def func2(self):\n",
        "          print(\"this is function 2\")\n",
        "class Child2(Parent):\n",
        "      def func3(self):\n",
        "          print(\"this is function 3\")\n",
        " \n",
        "ob = Child()\n",
        "ob1 = Child2()\n",
        "ob.func1()\n",
        "ob1.func1()\n"
      ],
      "metadata": {
        "colab": {
          "base_uri": "https://localhost:8080/"
        },
        "id": "tdMHl_JOGsBl",
        "outputId": "37454554-1c96-4108-c6b4-f265a6faf5d4"
      },
      "execution_count": 9,
      "outputs": [
        {
          "output_type": "stream",
          "name": "stdout",
          "text": [
            "this is function 1\n",
            "this is function 1\n"
          ]
        }
      ]
    },
    {
      "cell_type": "code",
      "source": [],
      "metadata": {
        "id": "Xj9r0P1mHouj"
      },
      "execution_count": null,
      "outputs": []
    }
  ]
}