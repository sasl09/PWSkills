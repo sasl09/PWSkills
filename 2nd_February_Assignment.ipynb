{
  "nbformat": 4,
  "nbformat_minor": 0,
  "metadata": {
    "colab": {
      "provenance": [],
      "authorship_tag": "ABX9TyO9YhjVbEAp2NxtjZSRRizo",
      "include_colab_link": true
    },
    "kernelspec": {
      "name": "python3",
      "display_name": "Python 3"
    },
    "language_info": {
      "name": "python"
    }
  },
  "cells": [
    {
      "cell_type": "markdown",
      "metadata": {
        "id": "view-in-github",
        "colab_type": "text"
      },
      "source": [
        "<a href=\"https://colab.research.google.com/github/sasl09/PWSkills/blob/main/2nd_February_Assignment.ipynb\" target=\"_parent\"><img src=\"https://colab.research.google.com/assets/colab-badge.svg\" alt=\"Open In Colab\"/></a>"
      ]
    },
    {
      "cell_type": "markdown",
      "source": [
        "# 1.-"
      ],
      "metadata": {
        "id": "dcTvJ95iXpoV"
      }
    },
    {
      "cell_type": "markdown",
      "source": [
        "## Tuples and lists are the same in every way except two: tuples use parentheses instead of square brackets, and the items in tuples cannot be modified (but the items in lists can be modified). We often call lists mutable (meaning they can be changed) and tuples immutable (meaning they cannot be changed)."
      ],
      "metadata": {
        "id": "GzLXj26JH4ey"
      }
    },
    {
      "cell_type": "markdown",
      "source": [
        "# 2.-"
      ],
      "metadata": {
        "id": "srpgRuqhX1d2"
      }
    },
    {
      "cell_type": "markdown",
      "source": [
        "## count()\tReturns the number of times a specified value occurs in a tuple\n",
        "## index()\tSearches the tuple for a specified value and returns the position of where it was found"
      ],
      "metadata": {
        "id": "D7AcFHAYIVfV"
      }
    },
    {
      "cell_type": "markdown",
      "source": [
        "## Tuples are immutables. Meaning, you cannot change items of a tuple once it is assigned. That's why there's only two methods as opposed to the many methods list have, as they're mutable. "
      ],
      "metadata": {
        "id": "1fvD350pIvrp"
      }
    },
    {
      "cell_type": "markdown",
      "source": [
        "# 3.-"
      ],
      "metadata": {
        "id": "G3CThrt-X2Y2"
      }
    },
    {
      "cell_type": "markdown",
      "source": [
        "## Sets are a collection that is unordered and unindexed. They are mutable but do not allow duplicate values to be held."
      ],
      "metadata": {
        "id": "pu4QDlseJP1y"
      }
    },
    {
      "cell_type": "code",
      "source": [
        "#This code will convert a list into a set without duplicates\n",
        "List = [1, 1, 1, 2, 1, 3, 1, 4, 2, 1, 2, 2, 2, 3, 2, 4, 3, 1, 3, 2, 3, 3, 3, 4, 4, 1, 4, 2, 4, 3, 4, 4]\n",
        "print(list(set(List)))"
      ],
      "metadata": {
        "colab": {
          "base_uri": "https://localhost:8080/"
        },
        "id": "5WEFhkNgJSvA",
        "outputId": "3261d1bc-1688-49a4-d6c0-46ef69dc5498"
      },
      "execution_count": 18,
      "outputs": [
        {
          "output_type": "stream",
          "name": "stdout",
          "text": [
            "[1, 2, 3, 4]\n"
          ]
        }
      ]
    },
    {
      "cell_type": "markdown",
      "source": [
        "# 4.-"
      ],
      "metadata": {
        "id": "r6emNe5FX3Dl"
      }
    },
    {
      "cell_type": "markdown",
      "source": [
        "## The _update methods modify the set in-place and return None. The methods without update return a new object. \n",
        "\n",
        "## The union() method returns a set that contains all items from the original set, and all items from the specified set(s)."
      ],
      "metadata": {
        "id": "KR5QI4j4LYER"
      }
    },
    {
      "cell_type": "code",
      "source": [
        "#update()\n",
        "A = {'a', 'b'}\n",
        "B = {1, 2, 3}\n",
        "\n",
        "B.update(A)\n",
        "\n",
        "print(B)"
      ],
      "metadata": {
        "colab": {
          "base_uri": "https://localhost:8080/"
        },
        "id": "NI7m8sZsRGOa",
        "outputId": "3791aeda-b997-47b2-d815-77eeb2a5d9bc"
      },
      "execution_count": 24,
      "outputs": [
        {
          "output_type": "stream",
          "name": "stdout",
          "text": [
            "{1, 2, 3, 'a', 'b'}\n"
          ]
        }
      ]
    },
    {
      "cell_type": "code",
      "source": [
        "#union()\n",
        "A = {2, 3, 5}\n",
        "B = {1, 3, 5}\n",
        "\n",
        "# compute union between A and B\n",
        "print('A+B = ', A.union(B))"
      ],
      "metadata": {
        "colab": {
          "base_uri": "https://localhost:8080/"
        },
        "id": "ZQ9fYJXNQ0Vu",
        "outputId": "fca05ff7-6be6-4241-883c-2f5807d6391b"
      },
      "execution_count": 20,
      "outputs": [
        {
          "output_type": "stream",
          "name": "stdout",
          "text": [
            "A+B =  {1, 2, 3, 5}\n"
          ]
        }
      ]
    },
    {
      "cell_type": "markdown",
      "source": [
        "# 5.-"
      ],
      "metadata": {
        "id": "dmEi8ShwX3Xu"
      }
    },
    {
      "cell_type": "markdown",
      "source": [
        "## A dictionary is an unordered and mutable Python container that stores mappings of unique keys to values. Dictionaries are written with curly brackets ({}), including key-value pairs separated by commas."
      ],
      "metadata": {
        "id": "f2QjhGTozS82"
      }
    },
    {
      "cell_type": "code",
      "source": [
        "someDict = {'a': 12, 'b':\"table\", 'c':float, 'd':int}\n",
        "print(someDict)"
      ],
      "metadata": {
        "colab": {
          "base_uri": "https://localhost:8080/"
        },
        "id": "kjf3pHjfS34x",
        "outputId": "e5df85f4-29bb-491c-e40b-ca7b792b2161"
      },
      "execution_count": 27,
      "outputs": [
        {
          "output_type": "stream",
          "name": "stdout",
          "text": [
            "{'a': 12, 'b': 'table', 'c': <class 'float'>, 'd': <class 'int'>}\n"
          ]
        }
      ]
    },
    {
      "cell_type": "markdown",
      "source": [
        "# 6.-"
      ],
      "metadata": {
        "id": "j4izHjgUX3nP"
      }
    },
    {
      "cell_type": "code",
      "source": [
        "myFamily = {\n",
        "  \"child1\" : {\n",
        "    \"name\" : \"Saul\",\n",
        "    \"year\" : 1985\n",
        "  },\n",
        "  \"child2\" : {\n",
        "    \"name\" : \"Armando\",\n",
        "    \"year\" : 1994\n",
        "  }\n",
        "}\n",
        "\n",
        "myFamily"
      ],
      "metadata": {
        "id": "1eOmaSF5X3vu",
        "colab": {
          "base_uri": "https://localhost:8080/"
        },
        "outputId": "453899f0-7556-4e74-b8ca-d660ae9cabaa"
      },
      "execution_count": 43,
      "outputs": [
        {
          "output_type": "execute_result",
          "data": {
            "text/plain": [
              "{'child1': {'name': 'Saul', 'year': 1985},\n",
              " 'child2': {'name': 'Armando', 'year': 1994}}"
            ]
          },
          "metadata": {},
          "execution_count": 43
        }
      ]
    },
    {
      "cell_type": "markdown",
      "source": [
        "# 7.-"
      ],
      "metadata": {
        "id": "Mkd-3KGHX34N"
      }
    },
    {
      "cell_type": "code",
      "source": [
        "#setdefault()\n",
        "dict1 = {'language' : 'Python', 'course': 'Data Science Masters'}\n",
        "dict1.setdefault(\"Topics\", ['Python', 'Machine Learning', 'Deep Learning'])\n",
        "dict1"
      ],
      "metadata": {
        "id": "n_4r8GaBX4B_",
        "colab": {
          "base_uri": "https://localhost:8080/"
        },
        "outputId": "29e5a7b9-b5cb-4a55-db24-9aa707587040"
      },
      "execution_count": 44,
      "outputs": [
        {
          "output_type": "execute_result",
          "data": {
            "text/plain": [
              "{'language': 'Python',\n",
              " 'course': 'Data Science Masters',\n",
              " 'Topics': ['Python', 'Machine Learning', 'Deep Learning']}"
            ]
          },
          "metadata": {},
          "execution_count": 44
        }
      ]
    },
    {
      "cell_type": "markdown",
      "source": [
        "# 8.- "
      ],
      "metadata": {
        "id": "32xsw8ylW-Lj"
      }
    },
    {
      "cell_type": "code",
      "source": [
        "dict1 = {'Sport': 'Cricket' , 'Teams': ['India', 'Australia', 'England', 'South Africa', 'Sri Lanka', 'New Zealand']}\n",
        "dict1"
      ],
      "metadata": {
        "id": "8Dby_2yyX4XO",
        "colab": {
          "base_uri": "https://localhost:8080/"
        },
        "outputId": "fa7570c2-0eaa-46c3-eb26-b6e6b83c3992"
      },
      "execution_count": 45,
      "outputs": [
        {
          "output_type": "execute_result",
          "data": {
            "text/plain": [
              "{'Sport': 'Cricket',\n",
              " 'Teams': ['India',\n",
              "  'Australia',\n",
              "  'England',\n",
              "  'South Africa',\n",
              "  'Sri Lanka',\n",
              "  'New Zealand']}"
            ]
          },
          "metadata": {},
          "execution_count": 45
        }
      ]
    },
    {
      "cell_type": "code",
      "source": [
        "dict1.keys()"
      ],
      "metadata": {
        "colab": {
          "base_uri": "https://localhost:8080/"
        },
        "id": "gwzf9e8xW9ZR",
        "outputId": "2e9b9c57-b561-40c6-e6eb-afc049da1490"
      },
      "execution_count": 46,
      "outputs": [
        {
          "output_type": "execute_result",
          "data": {
            "text/plain": [
              "dict_keys(['Sport', 'Teams'])"
            ]
          },
          "metadata": {},
          "execution_count": 46
        }
      ]
    },
    {
      "cell_type": "code",
      "source": [
        "dict1.values()"
      ],
      "metadata": {
        "colab": {
          "base_uri": "https://localhost:8080/"
        },
        "id": "n1hm4LypXVgu",
        "outputId": "d25201b5-b396-4f62-ec35-6d43ae473b0c"
      },
      "execution_count": 47,
      "outputs": [
        {
          "output_type": "execute_result",
          "data": {
            "text/plain": [
              "dict_values(['Cricket', ['India', 'Australia', 'England', 'South Africa', 'Sri Lanka', 'New Zealand']])"
            ]
          },
          "metadata": {},
          "execution_count": 47
        }
      ]
    },
    {
      "cell_type": "code",
      "source": [
        "dict1.items()"
      ],
      "metadata": {
        "colab": {
          "base_uri": "https://localhost:8080/"
        },
        "id": "T4WGF2zrXXbf",
        "outputId": "bbc03532-391c-4cdf-8581-ae496a8cd971"
      },
      "execution_count": 48,
      "outputs": [
        {
          "output_type": "execute_result",
          "data": {
            "text/plain": [
              "dict_items([('Sport', 'Cricket'), ('Teams', ['India', 'Australia', 'England', 'South Africa', 'Sri Lanka', 'New Zealand'])])"
            ]
          },
          "metadata": {},
          "execution_count": 48
        }
      ]
    },
    {
      "cell_type": "code",
      "source": [],
      "metadata": {
        "id": "wneApfotXZEy"
      },
      "execution_count": null,
      "outputs": []
    }
  ]
}