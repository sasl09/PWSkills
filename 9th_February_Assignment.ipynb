{
  "nbformat": 4,
  "nbformat_minor": 0,
  "metadata": {
    "colab": {
      "provenance": [],
      "authorship_tag": "ABX9TyOB62CzhTxrgDG4gKwf2mrz",
      "include_colab_link": true
    },
    "kernelspec": {
      "name": "python3",
      "display_name": "Python 3"
    },
    "language_info": {
      "name": "python"
    }
  },
  "cells": [
    {
      "cell_type": "markdown",
      "metadata": {
        "id": "view-in-github",
        "colab_type": "text"
      },
      "source": [
        "<a href=\"https://colab.research.google.com/github/sasl09/PWSkills/blob/main/9th_February_Assignment.ipynb\" target=\"_parent\"><img src=\"https://colab.research.google.com/assets/colab-badge.svg\" alt=\"Open In Colab\"/></a>"
      ]
    },
    {
      "cell_type": "markdown",
      "source": [
        "# 1.-"
      ],
      "metadata": {
        "id": "dcTvJ95iXpoV"
      }
    },
    {
      "cell_type": "code",
      "source": [
        "#This way you'll have to name vars before calling\n",
        "class vehicle():\n",
        "  def __init__(self, name_of_vehicle, max_speed, average_of_vehicle, someVar):\n",
        "    self.name_of_vehicle = name_of_vehicle\n",
        "    self.max_speed = max_speed\n",
        "    self.average_of_vehicle = average_of_vehicle\n",
        "    print(\"someVar by default is: \", someVar)\n",
        "  \n",
        "  def printSomething(self, someVar):\n",
        "    print(self.name_of_vehicle)\n",
        "    print(self.max_speed)\n",
        "    print(self.average_of_vehicle)\n",
        "    print(\"But someVar has to be named here, unless you include it in init function as self.someVar. So here it is: \", someVar)"
      ],
      "metadata": {
        "id": "N_As6iXrNQ-d"
      },
      "execution_count": 1,
      "outputs": []
    },
    {
      "cell_type": "code",
      "source": [
        "veh = vehicle(\"Ship\", 5000, \"Don't know\", \"What\")"
      ],
      "metadata": {
        "colab": {
          "base_uri": "https://localhost:8080/"
        },
        "id": "5x7g1Pjwh03b",
        "outputId": "4bd7d5ea-2771-4918-fbf1-1b261d9af291"
      },
      "execution_count": 2,
      "outputs": [
        {
          "output_type": "stream",
          "name": "stdout",
          "text": [
            "someVar by default is:  What\n"
          ]
        }
      ]
    },
    {
      "cell_type": "code",
      "source": [
        "veh = vehicle(\"Ship2\", 2000, \"Don't know2\", \"What2\")"
      ],
      "metadata": {
        "colab": {
          "base_uri": "https://localhost:8080/"
        },
        "id": "qoCRCa_h3YkJ",
        "outputId": "815c81f3-e0bf-4a93-9be3-32e66f92930c"
      },
      "execution_count": 3,
      "outputs": [
        {
          "output_type": "stream",
          "name": "stdout",
          "text": [
            "someVar by default is:  What2\n"
          ]
        }
      ]
    },
    {
      "cell_type": "code",
      "source": [
        "veh.printSomething(\"What2\")"
      ],
      "metadata": {
        "colab": {
          "base_uri": "https://localhost:8080/"
        },
        "id": "yuovqj7RiCVK",
        "outputId": "806862ef-8727-467c-9c67-ba1775ca8118"
      },
      "execution_count": 4,
      "outputs": [
        {
          "output_type": "stream",
          "name": "stdout",
          "text": [
            "Ship2\n",
            "2000\n",
            "Don't know2\n",
            "But someVar has to be named here, unless you include it in init function as self.someVar. So here it is:  What2\n"
          ]
        }
      ]
    },
    {
      "cell_type": "code",
      "source": [
        "#This way you'll have default values for your class vars\n",
        "class vehicle():\n",
        "  def __init__(self):\n",
        "    name_of_vehicle = \"Ship2\"\n",
        "    max_speed = 200\n",
        "    average_of_vehicle = \"random\"\n",
        "\n",
        "    self.name_of_vehicle = name_of_vehicle\n",
        "    self.max_speed = max_speed\n",
        "    self.average_of_vehicle = average_of_vehicle\n",
        "\n",
        "    print(name_of_vehicle, max_speed, average_of_vehicle)\n",
        "  \n",
        "  def printSomething(self, someVar):\n",
        "    print(self.name_of_vehicle)\n",
        "    print(self.max_speed)\n",
        "    print(self.average_of_vehicle)\n",
        "    print(someVar)"
      ],
      "metadata": {
        "id": "D4LNoBICsASC"
      },
      "execution_count": 5,
      "outputs": []
    },
    {
      "cell_type": "code",
      "source": [
        "veh = vehicle()"
      ],
      "metadata": {
        "colab": {
          "base_uri": "https://localhost:8080/"
        },
        "id": "jH5_wPBcrNhK",
        "outputId": "8ece7d2e-ba29-4186-fa5e-59be6fbfd09c"
      },
      "execution_count": 6,
      "outputs": [
        {
          "output_type": "stream",
          "name": "stdout",
          "text": [
            "Ship2 200 random\n"
          ]
        }
      ]
    },
    {
      "cell_type": "code",
      "source": [
        "veh.printSomething(\"what3\")"
      ],
      "metadata": {
        "colab": {
          "base_uri": "https://localhost:8080/"
        },
        "id": "sA8PFyorttw5",
        "outputId": "885fa676-c509-41b1-c9de-2f92b625f84f"
      },
      "execution_count": 7,
      "outputs": [
        {
          "output_type": "stream",
          "name": "stdout",
          "text": [
            "Ship2\n",
            "200\n",
            "random\n",
            "what3\n"
          ]
        }
      ]
    },
    {
      "cell_type": "code",
      "source": [
        "#This way you'll have default values for your class vars, but if you use self with your vars, then you can change their values when you call them\n",
        "class vehicle():\n",
        "  def __init__(self):\n",
        "    self.name_of_vehicle = \"Ship2\"\n",
        "    self.max_speed = 200\n",
        "    self.average_of_vehicle = \"random\"\n",
        "\n",
        "    print(self.name_of_vehicle, self.max_speed, self.average_of_vehicle)\n",
        "  \n",
        "  def printSomething(self, someVar):\n",
        "    print(self.name_of_vehicle)\n",
        "    print(self.max_speed)\n",
        "    print(self.average_of_vehicle)\n",
        "    print(someVar)"
      ],
      "metadata": {
        "id": "DDwY6tDNwqSw"
      },
      "execution_count": 8,
      "outputs": []
    },
    {
      "cell_type": "code",
      "source": [
        "veh = vehicle()"
      ],
      "metadata": {
        "colab": {
          "base_uri": "https://localhost:8080/"
        },
        "id": "uOu7q8Ozw7_Z",
        "outputId": "3525c128-214d-4482-ce8b-4de3e98f2445"
      },
      "execution_count": 9,
      "outputs": [
        {
          "output_type": "stream",
          "name": "stdout",
          "text": [
            "Ship2 200 random\n"
          ]
        }
      ]
    },
    {
      "cell_type": "code",
      "source": [
        "veh.name_of_vehicle = \"ship5\"\n",
        "veh.max_speed = 10\n",
        "veh.average_of_vehicle = \"what6\""
      ],
      "metadata": {
        "id": "NU9SEcbMy8XY"
      },
      "execution_count": 10,
      "outputs": []
    },
    {
      "cell_type": "code",
      "source": [
        "veh.printSomething(\"what5\")"
      ],
      "metadata": {
        "colab": {
          "base_uri": "https://localhost:8080/"
        },
        "id": "Vy6y5RjuzLHB",
        "outputId": "d7ec7546-7ad9-456b-b96d-21f803671b0a"
      },
      "execution_count": 11,
      "outputs": [
        {
          "output_type": "stream",
          "name": "stdout",
          "text": [
            "ship5\n",
            "10\n",
            "what6\n",
            "what5\n"
          ]
        }
      ]
    },
    {
      "cell_type": "markdown",
      "source": [
        "# 2.-"
      ],
      "metadata": {
        "id": "srpgRuqhX1d2"
      }
    },
    {
      "cell_type": "code",
      "source": [
        "class car(vehicle):\n",
        "  def __init__(self, name_of_vehicle, max_speed, average_of_vehicle):\n",
        "    #If you don't pass these next 3 you won't be able to print our super class function printSomething\n",
        "    self.name_of_vehicle = name_of_vehicle\n",
        "    self.max_speed = max_speed\n",
        "    self.average_of_vehicle = average_of_vehicle\n",
        "    print(name_of_vehicle, max_speed, average_of_vehicle)\n",
        "\n",
        "  def seating_capacity(self, capacity):\n",
        "    print(self.name_of_vehicle) \n",
        "    print(capacity)"
      ],
      "metadata": {
        "id": "ln4brvEdRxMT"
      },
      "execution_count": 12,
      "outputs": []
    },
    {
      "cell_type": "code",
      "source": [
        "car = car(\"shippy\", 500, \"random3\")"
      ],
      "metadata": {
        "id": "XokfWJK1PozG",
        "colab": {
          "base_uri": "https://localhost:8080/"
        },
        "outputId": "70412f84-bd51-49a7-b235-68ab42a89171"
      },
      "execution_count": 13,
      "outputs": [
        {
          "output_type": "stream",
          "name": "stdout",
          "text": [
            "shippy 500 random3\n"
          ]
        }
      ]
    },
    {
      "cell_type": "code",
      "source": [
        "car.seating_capacity(1000)"
      ],
      "metadata": {
        "colab": {
          "base_uri": "https://localhost:8080/"
        },
        "id": "w4EPOSvY84Qa",
        "outputId": "ef571fdd-0d61-45b2-eb43-e44268892200"
      },
      "execution_count": 14,
      "outputs": [
        {
          "output_type": "stream",
          "name": "stdout",
          "text": [
            "shippy\n",
            "1000\n"
          ]
        }
      ]
    },
    {
      "cell_type": "code",
      "source": [
        "car.printSomething(5000)"
      ],
      "metadata": {
        "colab": {
          "base_uri": "https://localhost:8080/"
        },
        "id": "ikdwyHRKo7Hx",
        "outputId": "8aef1e2f-d657-40bd-a78b-1eb671c6c732"
      },
      "execution_count": 15,
      "outputs": [
        {
          "output_type": "stream",
          "name": "stdout",
          "text": [
            "shippy\n",
            "500\n",
            "random3\n",
            "5000\n"
          ]
        }
      ]
    },
    {
      "cell_type": "markdown",
      "source": [
        "# 3.-"
      ],
      "metadata": {
        "id": "X2Nx_8cznCUL"
      }
    },
    {
      "cell_type": "code",
      "source": [
        "#First super class\n",
        "class Mammal:\n",
        "    def mammal_info(self):\n",
        "        print(\"Mammals can give direct birth.\")"
      ],
      "metadata": {
        "id": "ZHYMHUaZExK4"
      },
      "execution_count": 16,
      "outputs": []
    },
    {
      "cell_type": "code",
      "source": [
        "#Second super class\n",
        "class WingedAnimal:\n",
        "    def winged_animal_info(self):\n",
        "        print(\"Winged animals can flap.\")"
      ],
      "metadata": {
        "id": "7Okks7BToBlj"
      },
      "execution_count": 17,
      "outputs": []
    },
    {
      "cell_type": "code",
      "source": [
        "#Class to inherit super classes\n",
        "class Bat(Mammal, WingedAnimal):\n",
        "    pass"
      ],
      "metadata": {
        "id": "YPeVqtSQoDzB"
      },
      "execution_count": 18,
      "outputs": []
    },
    {
      "cell_type": "code",
      "source": [
        "b1 = Bat()\n",
        "b1.mammal_info()\n",
        "b1.winged_animal_info()"
      ],
      "metadata": {
        "colab": {
          "base_uri": "https://localhost:8080/"
        },
        "id": "Ccz7CEXVFCP5",
        "outputId": "e303e4e9-68a6-413e-a3c4-b6870a3c59bd"
      },
      "execution_count": 19,
      "outputs": [
        {
          "output_type": "stream",
          "name": "stdout",
          "text": [
            "Mammals can give direct birth.\n",
            "Winged animals can flap.\n"
          ]
        }
      ]
    },
    {
      "cell_type": "markdown",
      "source": [
        "#4.-"
      ],
      "metadata": {
        "id": "cAY6WooHouDh"
      }
    },
    {
      "cell_type": "markdown",
      "source": [
        "### Getter: A method that allows you to access an attribute in a given class\n",
        "### Setter: A method that allows you to set or mutate the value of an attribute in a class"
      ],
      "metadata": {
        "id": "HPKOPlyJAbrZ"
      }
    },
    {
      "cell_type": "code",
      "source": [
        "class Label:\n",
        "    def __init__(self, text, font):\n",
        "        self.set_text(text)\n",
        "        self.font = font\n",
        "\n",
        "    def get_text(self):\n",
        "        return self._text\n",
        "\n",
        "    def set_text(self, value):\n",
        "        self._text = value.upper()  # Attached behavior (Convert text to upper)"
      ],
      "metadata": {
        "id": "xP0g3qG_OzeC"
      },
      "execution_count": 20,
      "outputs": []
    },
    {
      "cell_type": "code",
      "source": [
        "n = Label(\"some text\", \"Comic Sans\")"
      ],
      "metadata": {
        "id": "T_7I_ZXWAjh5"
      },
      "execution_count": 21,
      "outputs": []
    },
    {
      "cell_type": "code",
      "source": [
        "n.get_text()"
      ],
      "metadata": {
        "colab": {
          "base_uri": "https://localhost:8080/",
          "height": 36
        },
        "id": "FbR5EXlWAyDD",
        "outputId": "0f455b1b-483e-43ba-f75a-ea51799e5329"
      },
      "execution_count": 22,
      "outputs": [
        {
          "output_type": "execute_result",
          "data": {
            "text/plain": [
              "'SOME TEXT'"
            ],
            "application/vnd.google.colaboratory.intrinsic+json": {
              "type": "string"
            }
          },
          "metadata": {},
          "execution_count": 22
        }
      ]
    },
    {
      "cell_type": "markdown",
      "source": [
        "# 5.-"
      ],
      "metadata": {
        "id": "5Lsud6AyC5Fv"
      }
    },
    {
      "cell_type": "markdown",
      "source": [
        "# A feature of object-oriented programming languages where the subclass or child class can provide the program with specific characteristics or a specific implementation process of data provided that are already defined in the parent class or superclass."
      ],
      "metadata": {
        "id": "C_GIYtMbC7XH"
      }
    },
    {
      "cell_type": "code",
      "source": [
        "# Defining parent class 1 \n",
        "class Parent1(): \n",
        "    # Parent’s show method \n",
        "    def show(self): \n",
        "        print(\"Inside Parent1\") \n",
        "\n",
        "\n",
        "# Defining Parent class 2 \n",
        "class Parent2(): \n",
        "    # Parent’s show method \n",
        "    def display(self): \n",
        "        print(\"Inside Parent2\")   "
      ],
      "metadata": {
        "id": "FcxZxe3_BFiW"
      },
      "execution_count": 23,
      "outputs": []
    },
    {
      "cell_type": "code",
      "source": [
        "# Defining child class \n",
        "class Child(Parent1, Parent2): \n",
        "    # Child’s show method \n",
        "    def show(self): \n",
        "        print(\"Inside Child\") "
      ],
      "metadata": {
        "id": "Pwa6PZ6oDgSO"
      },
      "execution_count": 24,
      "outputs": []
    },
    {
      "cell_type": "code",
      "source": [
        "obj = Child() \n",
        "\n",
        "obj.show() #Child Class will overwrite Parent1 method show()\n",
        "obj.display()"
      ],
      "metadata": {
        "colab": {
          "base_uri": "https://localhost:8080/"
        },
        "id": "n9g4pz1aDatd",
        "outputId": "c93ed847-6fdd-447b-a089-a7a858a06d1b"
      },
      "execution_count": 25,
      "outputs": [
        {
          "output_type": "stream",
          "name": "stdout",
          "text": [
            "Inside Child\n",
            "Inside Parent2\n"
          ]
        }
      ]
    },
    {
      "cell_type": "code",
      "source": [],
      "metadata": {
        "id": "XWKpLch7Dp1T"
      },
      "execution_count": 25,
      "outputs": []
    }
  ]
}