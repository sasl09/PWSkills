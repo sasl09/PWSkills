{
  "nbformat": 4,
  "nbformat_minor": 0,
  "metadata": {
    "colab": {
      "provenance": [],
      "authorship_tag": "ABX9TyPya2NHg2ai8o5YWFBTDicA",
      "include_colab_link": true
    },
    "kernelspec": {
      "name": "python3",
      "display_name": "Python 3"
    },
    "language_info": {
      "name": "python"
    }
  },
  "cells": [
    {
      "cell_type": "markdown",
      "metadata": {
        "id": "view-in-github",
        "colab_type": "text"
      },
      "source": [
        "<a href=\"https://colab.research.google.com/github/sasl09/PWSkills/blob/main/9th_February_Assignment.ipynb\" target=\"_parent\"><img src=\"https://colab.research.google.com/assets/colab-badge.svg\" alt=\"Open In Colab\"/></a>"
      ]
    },
    {
      "cell_type": "markdown",
      "source": [
        "# 1.-"
      ],
      "metadata": {
        "id": "dcTvJ95iXpoV"
      }
    },
    {
      "cell_type": "code",
      "source": [
        "#This way you'll have to name vars before calling\n",
        "class vehicle():\n",
        "  def __init__(self, name_of_vehicle, max_speed, average_of_vehicle, someVar):\n",
        "    self.name_of_vehicle = name_of_vehicle\n",
        "    self.max_speed = max_speed\n",
        "    self.average_of_vehicle = average_of_vehicle\n",
        "    print(\"someVar by default is: \", someVar)\n",
        "  \n",
        "  def printSomething(self, someVar):\n",
        "    print(self.name_of_vehicle)\n",
        "    print(self.max_speed)\n",
        "    print(self.average_of_vehicle)\n",
        "    print(\"But someVar has to be named here, unless you include it in init function as self.someVar. So here it is: \", someVar)"
      ],
      "metadata": {
        "id": "N_As6iXrNQ-d"
      },
      "execution_count": null,
      "outputs": []
    },
    {
      "cell_type": "code",
      "source": [
        "veh = vehicle(\"Ship\", 5000, \"Don't know\", \"What\")"
      ],
      "metadata": {
        "colab": {
          "base_uri": "https://localhost:8080/"
        },
        "id": "5x7g1Pjwh03b",
        "outputId": "1f5669ea-674b-489d-d3bc-035ce1da0803"
      },
      "execution_count": null,
      "outputs": [
        {
          "output_type": "stream",
          "name": "stdout",
          "text": [
            "someVar by default is:  What\n"
          ]
        }
      ]
    },
    {
      "cell_type": "code",
      "source": [
        "veh.printSomething(\"What2\")"
      ],
      "metadata": {
        "colab": {
          "base_uri": "https://localhost:8080/"
        },
        "id": "yuovqj7RiCVK",
        "outputId": "eedfa324-2574-4f01-961e-d54db535c307"
      },
      "execution_count": null,
      "outputs": [
        {
          "output_type": "stream",
          "name": "stdout",
          "text": [
            "Ship\n",
            "5000\n",
            "Don't know\n",
            "But someVar has to be named here, unless you include it in init function as self.someVar. So here it is:  What2\n"
          ]
        }
      ]
    },
    {
      "cell_type": "code",
      "source": [
        "#This way you'll have default values for your class vars\n",
        "class vehicle():\n",
        "  def __init__(self):\n",
        "    name_of_vehicle = \"Ship2\"\n",
        "    max_speed = 200\n",
        "    average_of_vehicle = \"random\"\n",
        "\n",
        "    self.name_of_vehicle = name_of_vehicle\n",
        "    self.max_speed = max_speed\n",
        "    self.average_of_vehicle = average_of_vehicle\n",
        "\n",
        "    print(name_of_vehicle, max_speed, average_of_vehicle)\n",
        "  \n",
        "  def printSomething(self, someVar):\n",
        "    print(self.name_of_vehicle)\n",
        "    print(self.max_speed)\n",
        "    print(self.average_of_vehicle)\n",
        "    print(someVar)"
      ],
      "metadata": {
        "id": "D4LNoBICsASC"
      },
      "execution_count": null,
      "outputs": []
    },
    {
      "cell_type": "code",
      "source": [
        "veh = vehicle()"
      ],
      "metadata": {
        "colab": {
          "base_uri": "https://localhost:8080/"
        },
        "id": "jH5_wPBcrNhK",
        "outputId": "c2c73bdb-7550-4208-e66c-f3384602232f"
      },
      "execution_count": null,
      "outputs": [
        {
          "output_type": "stream",
          "name": "stdout",
          "text": [
            "Ship2 200 random\n"
          ]
        }
      ]
    },
    {
      "cell_type": "code",
      "source": [
        "veh.printSomething(\"what3\")"
      ],
      "metadata": {
        "colab": {
          "base_uri": "https://localhost:8080/"
        },
        "id": "sA8PFyorttw5",
        "outputId": "ea0a9526-1026-4c15-98db-cdc1f133b9dd"
      },
      "execution_count": null,
      "outputs": [
        {
          "output_type": "stream",
          "name": "stdout",
          "text": [
            "Ship2\n",
            "200\n",
            "random\n",
            "what3\n"
          ]
        }
      ]
    },
    {
      "cell_type": "code",
      "source": [
        "#This way you'll have default values for your class vars, but if you use self with your vars, then you can change their values when you call them\n",
        "class vehicle():\n",
        "  def __init__(self):\n",
        "    self.name_of_vehicle = \"Ship2\"\n",
        "    self.max_speed = 200\n",
        "    self.average_of_vehicle = \"random\"\n",
        "\n",
        "    print(self.name_of_vehicle, self.max_speed, self.average_of_vehicle)\n",
        "  \n",
        "  def printSomething(self, someVar):\n",
        "    print(self.name_of_vehicle)\n",
        "    print(self.max_speed)\n",
        "    print(self.average_of_vehicle)\n",
        "    print(someVar)"
      ],
      "metadata": {
        "id": "DDwY6tDNwqSw"
      },
      "execution_count": null,
      "outputs": []
    },
    {
      "cell_type": "code",
      "source": [
        "veh = vehicle()"
      ],
      "metadata": {
        "colab": {
          "base_uri": "https://localhost:8080/"
        },
        "id": "uOu7q8Ozw7_Z",
        "outputId": "87d85fd5-034e-48bb-e6eb-391deda14145"
      },
      "execution_count": null,
      "outputs": [
        {
          "output_type": "stream",
          "name": "stdout",
          "text": [
            "Ship2 200 random\n"
          ]
        }
      ]
    },
    {
      "cell_type": "code",
      "source": [
        "veh.name_of_vehicle = \"ship5\"\n",
        "veh.max_speed = 10\n",
        "veh.average_of_vehicle = \"what6\""
      ],
      "metadata": {
        "id": "NU9SEcbMy8XY"
      },
      "execution_count": null,
      "outputs": []
    },
    {
      "cell_type": "code",
      "source": [
        "veh.printSomething(\"what5\")"
      ],
      "metadata": {
        "colab": {
          "base_uri": "https://localhost:8080/"
        },
        "id": "Vy6y5RjuzLHB",
        "outputId": "8dba3d92-995c-4160-c59f-005d49b10789"
      },
      "execution_count": null,
      "outputs": [
        {
          "output_type": "stream",
          "name": "stdout",
          "text": [
            "ship5\n",
            "10\n",
            "what6\n",
            "what5\n"
          ]
        }
      ]
    },
    {
      "cell_type": "markdown",
      "source": [
        "# 2.-"
      ],
      "metadata": {
        "id": "srpgRuqhX1d2"
      }
    },
    {
      "cell_type": "code",
      "source": [
        "class car(vehicle):\n",
        "  def __init__(self, name_of_vehicle, max_speed, average_of_vehicle):\n",
        "    #If you don't pass these next 3 you won't be able to print our super class function printSomething\n",
        "    self.name_of_vehicle = name_of_vehicle\n",
        "    self.max_speed = max_speed\n",
        "    self.average_of_vehicle = average_of_vehicle\n",
        "    print(name_of_vehicle, max_speed, average_of_vehicle)\n",
        "\n",
        "  def seating_capacity(self, capacity):\n",
        "    print(self.name_of_vehicle) \n",
        "    print(capacity)"
      ],
      "metadata": {
        "id": "ln4brvEdRxMT"
      },
      "execution_count": null,
      "outputs": []
    },
    {
      "cell_type": "code",
      "source": [
        "car = car(\"shippy\", 500, \"random3\")"
      ],
      "metadata": {
        "id": "XokfWJK1PozG",
        "colab": {
          "base_uri": "https://localhost:8080/"
        },
        "outputId": "19c76605-d731-4727-d95e-80edba541b02"
      },
      "execution_count": null,
      "outputs": [
        {
          "output_type": "stream",
          "name": "stdout",
          "text": [
            "shippy 500 random3\n"
          ]
        }
      ]
    },
    {
      "cell_type": "code",
      "source": [
        "car.seating_capacity(1000)"
      ],
      "metadata": {
        "colab": {
          "base_uri": "https://localhost:8080/"
        },
        "id": "w4EPOSvY84Qa",
        "outputId": "2f6e13b5-da38-4b96-edf1-8654406ecf9b"
      },
      "execution_count": null,
      "outputs": [
        {
          "output_type": "stream",
          "name": "stdout",
          "text": [
            "shippy\n",
            "1000\n"
          ]
        }
      ]
    },
    {
      "cell_type": "code",
      "source": [
        "car.printSomething(5000)"
      ],
      "metadata": {
        "colab": {
          "base_uri": "https://localhost:8080/"
        },
        "id": "ikdwyHRKo7Hx",
        "outputId": "f2b9d09a-e1bb-4f7d-f86b-d7222798d0ec"
      },
      "execution_count": null,
      "outputs": [
        {
          "output_type": "stream",
          "name": "stdout",
          "text": [
            "shippy\n",
            "500\n",
            "random3\n",
            "But someVar has to be named here, unless you include it in init function as self.someVar. So here it is:  5000\n"
          ]
        }
      ]
    },
    {
      "cell_type": "markdown",
      "source": [
        "# 3.-"
      ],
      "metadata": {
        "id": "X2Nx_8cznCUL"
      }
    },
    {
      "cell_type": "code",
      "source": [
        "#First super class\n",
        "class Mammal:\n",
        "    def mammal_info(self):\n",
        "        print(\"Mammals can give direct birth.\")"
      ],
      "metadata": {
        "id": "ZHYMHUaZExK4"
      },
      "execution_count": null,
      "outputs": []
    },
    {
      "cell_type": "code",
      "source": [
        "#Second super class\n",
        "class WingedAnimal:\n",
        "    def winged_animal_info(self):\n",
        "        print(\"Winged animals can flap.\")"
      ],
      "metadata": {
        "id": "7Okks7BToBlj"
      },
      "execution_count": null,
      "outputs": []
    },
    {
      "cell_type": "code",
      "source": [
        "#Class to inherit super classes\n",
        "class Bat(Mammal, WingedAnimal):\n",
        "    pass"
      ],
      "metadata": {
        "id": "YPeVqtSQoDzB"
      },
      "execution_count": null,
      "outputs": []
    },
    {
      "cell_type": "code",
      "source": [
        "b1 = Bat()\n",
        "b1.mammal_info()\n",
        "b1.winged_animal_info()"
      ],
      "metadata": {
        "colab": {
          "base_uri": "https://localhost:8080/"
        },
        "id": "Ccz7CEXVFCP5",
        "outputId": "98e40dec-6a0a-4ed1-e11f-10e479a21dec"
      },
      "execution_count": null,
      "outputs": [
        {
          "output_type": "stream",
          "name": "stdout",
          "text": [
            "Mammals can give direct birth.\n",
            "Winged animals can flap.\n"
          ]
        }
      ]
    },
    {
      "cell_type": "markdown",
      "source": [
        "#4.-"
      ],
      "metadata": {
        "id": "cAY6WooHouDh"
      }
    },
    {
      "cell_type": "markdown",
      "source": [
        "### Getter: A method that allows you to access an attribute in a given class\n",
        "### Setter: A method that allows you to set or mutate the value of an attribute in a class"
      ],
      "metadata": {
        "id": "HPKOPlyJAbrZ"
      }
    },
    {
      "cell_type": "code",
      "source": [
        "class Label:\n",
        "    def __init__(self, text, font):\n",
        "        self.set_text(text)\n",
        "        self.font = font\n",
        "\n",
        "    def get_text(self):\n",
        "        return self._text\n",
        "\n",
        "    def set_text(self, value):\n",
        "        self._text = value.upper()  # Attached behavior (Convert text to upper)"
      ],
      "metadata": {
        "id": "xP0g3qG_OzeC"
      },
      "execution_count": null,
      "outputs": []
    },
    {
      "cell_type": "code",
      "source": [
        "n = Label(\"some text\", \"Comic Sans\")"
      ],
      "metadata": {
        "id": "T_7I_ZXWAjh5"
      },
      "execution_count": null,
      "outputs": []
    },
    {
      "cell_type": "code",
      "source": [
        "n.get_text()"
      ],
      "metadata": {
        "colab": {
          "base_uri": "https://localhost:8080/",
          "height": 36
        },
        "id": "FbR5EXlWAyDD",
        "outputId": "ba947f35-70b1-4edd-de4b-2537dd4c7e39"
      },
      "execution_count": null,
      "outputs": [
        {
          "output_type": "execute_result",
          "data": {
            "text/plain": [
              "'SOME TEXT'"
            ],
            "application/vnd.google.colaboratory.intrinsic+json": {
              "type": "string"
            }
          },
          "metadata": {},
          "execution_count": 209
        }
      ]
    },
    {
      "cell_type": "markdown",
      "source": [
        "# 5.-"
      ],
      "metadata": {
        "id": "5Lsud6AyC5Fv"
      }
    },
    {
      "cell_type": "markdown",
      "source": [
        "# A feature of object-oriented programming languages where the subclass or child class can provide the program with specific characteristics or a specific implementation process of data provided that are already defined in the parent class or superclass."
      ],
      "metadata": {
        "id": "C_GIYtMbC7XH"
      }
    },
    {
      "cell_type": "code",
      "source": [
        "# Defining parent class 1 \n",
        "class Parent1(): \n",
        "    # Parent’s show method \n",
        "    def show(self): \n",
        "        print(\"Inside Parent1\") \n",
        "\n",
        "\n",
        "# Defining Parent class 2 \n",
        "class Parent2(): \n",
        "    # Parent’s show method \n",
        "    def display(self): \n",
        "        print(\"Inside Parent2\")   "
      ],
      "metadata": {
        "id": "FcxZxe3_BFiW"
      },
      "execution_count": null,
      "outputs": []
    },
    {
      "cell_type": "code",
      "source": [
        "# Defining child class \n",
        "class Child(Parent1, Parent2): \n",
        "    # Child’s show method \n",
        "    def show(self): \n",
        "        print(\"Inside Child\") "
      ],
      "metadata": {
        "id": "Pwa6PZ6oDgSO"
      },
      "execution_count": null,
      "outputs": []
    },
    {
      "cell_type": "code",
      "source": [
        "obj = Child() \n",
        "\n",
        "obj.show() #Child Class will overwrite Parent1 method show()\n",
        "obj.display()"
      ],
      "metadata": {
        "colab": {
          "base_uri": "https://localhost:8080/"
        },
        "id": "n9g4pz1aDatd",
        "outputId": "636f75c4-659e-4ba0-c277-e7e451a0c2fd"
      },
      "execution_count": null,
      "outputs": [
        {
          "output_type": "stream",
          "name": "stdout",
          "text": [
            "Inside Child\n",
            "Inside Parent2\n"
          ]
        }
      ]
    },
    {
      "cell_type": "code",
      "source": [],
      "metadata": {
        "id": "XWKpLch7Dp1T"
      },
      "execution_count": null,
      "outputs": []
    }
  ]
}